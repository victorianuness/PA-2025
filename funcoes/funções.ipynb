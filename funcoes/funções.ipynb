{
  "nbformat": 4,
  "nbformat_minor": 0,
  "metadata": {
    "colab": {
      "provenance": [],
      "authorship_tag": "ABX9TyMqVa7cZLXskqESm+ywd66I",
      "include_colab_link": true
    },
    "kernelspec": {
      "name": "python3",
      "display_name": "Python 3"
    },
    "language_info": {
      "name": "python"
    }
  },
  "cells": [
    {
      "cell_type": "markdown",
      "metadata": {
        "id": "view-in-github",
        "colab_type": "text"
      },
      "source": [
        "<a href=\"https://colab.research.google.com/github/victorianuness/PA-2025/blob/main/funcoes/fun%C3%A7%C3%B5es.ipynb\" target=\"_parent\"><img src=\"https://colab.research.google.com/assets/colab-badge.svg\" alt=\"Open In Colab\"/></a>"
      ]
    },
    {
      "cell_type": "markdown",
      "source": [
        "# Função com Parâmetro e sem Retorno"
      ],
      "metadata": {
        "id": "fUe8MGzKNily"
      }
    },
    {
      "cell_type": "code",
      "execution_count": null,
      "metadata": {
        "id": "Xpi4_l-FMBnI"
      },
      "outputs": [],
      "source": [
        "total =0\n",
        "subtrai=0\n",
        "def soma (x,y):\n",
        "  total= x+y\n",
        "  print(total)\n",
        "#precisa do parenteses em toda função\n",
        "\n",
        "def diminuir (x,y):\n",
        "  subtrai= x-y\n",
        "  print(subtrai)"
      ]
    },
    {
      "cell_type": "code",
      "source": [
        "def apresentar(nome):\n",
        "  print(f\"Olá, {nome}! Prazer em te conhecer.\")"
      ],
      "metadata": {
        "id": "bfwiUaiTYWo8"
      },
      "execution_count": null,
      "outputs": []
    },
    {
      "cell_type": "code",
      "source": [
        "nome= input(\"Digite seu nome \")\n",
        "apresentar(nome)"
      ],
      "metadata": {
        "colab": {
          "base_uri": "https://localhost:8080/"
        },
        "id": "zoXXZBS9YozN",
        "outputId": "28782c67-1a88-4628-edff-ffe1a344ca80"
      },
      "execution_count": null,
      "outputs": [
        {
          "output_type": "stream",
          "name": "stdout",
          "text": [
            "Digite seu nome vic\n",
            "Olá, vic! Prazer em te conhecer.\n"
          ]
        }
      ]
    },
    {
      "cell_type": "code",
      "source": [
        "def verificar_paridade(numero):\n",
        "  if numero % 2==0:\n",
        "    print(f\"O número {numero} é par.\")\n",
        "  else:\n",
        "    print(f\"O número {numero} é impar\")\n",
        "\n",
        "verificar_paridade(7)\n",
        "verificar_paridade(12)\n"
      ],
      "metadata": {
        "colab": {
          "base_uri": "https://localhost:8080/"
        },
        "id": "-SvLto_TZ-uy",
        "outputId": "eac75214-9e1a-4d58-badd-a0e0560de616"
      },
      "execution_count": null,
      "outputs": [
        {
          "output_type": "stream",
          "name": "stdout",
          "text": [
            "O número 7 é impar\n",
            "O número 12 é par.\n"
          ]
        }
      ]
    },
    {
      "cell_type": "code",
      "source": [
        "def boas_vindas (nome, curso):\n",
        "  print(f\"Olá,{nome}! Seja bem-vindo(a) ao curso de {curso}\")\n",
        "boas_vindas(\"Victoria\", \"programação em python\")"
      ],
      "metadata": {
        "colab": {
          "base_uri": "https://localhost:8080/"
        },
        "id": "HngotjBwasJ7",
        "outputId": "4af84c03-ac5d-44e0-e21b-e591b94695ae"
      },
      "execution_count": null,
      "outputs": [
        {
          "output_type": "stream",
          "name": "stdout",
          "text": [
            "Olá,Victoria! Seja bem-vindo(a) ao curso de programação em python\n"
          ]
        }
      ]
    },
    {
      "cell_type": "markdown",
      "source": [
        "# estou definindo funções com retorno"
      ],
      "metadata": {
        "id": "fOd2kL6iNnxy"
      }
    },
    {
      "cell_type": "code",
      "source": [
        "def mult (x,y):\n",
        "  total= x * y\n",
        "  return total\n",
        "def divisao (x,y):\n",
        "  total= x/y\n",
        "  return total"
      ],
      "metadata": {
        "id": "IO3ekcCvRTQB"
      },
      "execution_count": null,
      "outputs": []
    },
    {
      "cell_type": "markdown",
      "source": [
        "# Chamando função com retorno"
      ],
      "metadata": {
        "id": "VKjGTE9oSSzf"
      }
    },
    {
      "cell_type": "code",
      "source": [
        "valor1= int(input(\"Digite o primeiro valor: \"))\n",
        "valor2=int(input(\"Digite o segundo valor: \"))\n",
        "multiplicação= mult(valor1,valor2)\n",
        "divisao= divisao(valor1,valor2)\n",
        "print(\" A multiplicação é\",multiplicação)\n",
        "print(\"A divisão é: \", divisao)"
      ],
      "metadata": {
        "colab": {
          "base_uri": "https://localhost:8080/"
        },
        "id": "sX7o9AuhSX0q",
        "outputId": "8f40fc30-86c4-4612-c968-93d144ff6cf0"
      },
      "execution_count": null,
      "outputs": [
        {
          "output_type": "stream",
          "name": "stdout",
          "text": [
            "Digite o primeiro valor: 10\n",
            "Digite o segundo valor: 2\n",
            " A multiplicação é 20\n",
            "A divisão é:  5.0\n"
          ]
        }
      ]
    },
    {
      "cell_type": "markdown",
      "source": [
        "# agora vou chamar as funções"
      ],
      "metadata": {
        "id": "RbBjgmsORCXV"
      }
    },
    {
      "cell_type": "code",
      "source": [
        "valor1= int(input(\"Digite o primeiro valor: \"))\n",
        "valor2=int(input(\"Digite o segundo valor: \"))\n",
        "soma(valor1,valor2)\n",
        "diminuir(valor1,valor2)\n"
      ],
      "metadata": {
        "colab": {
          "base_uri": "https://localhost:8080/"
        },
        "id": "Fzho8FdQMMmE",
        "outputId": "464cbb4f-838f-4be7-bd75-b7ed3bb5195d"
      },
      "execution_count": null,
      "outputs": [
        {
          "output_type": "stream",
          "name": "stdout",
          "text": [
            "Digite o primeiro valor: 10\n",
            "Digite o segundo valor: 8\n",
            "18\n",
            "2\n"
          ]
        }
      ]
    },
    {
      "cell_type": "markdown",
      "source": [
        "# funções sem retorno e sem parâmetro"
      ],
      "metadata": {
        "id": "_3TOHI8tU3Tk"
      }
    },
    {
      "cell_type": "code",
      "source": [
        "def saudacao():\n",
        "  print(\"Olá! Seja bem-vindo(a) ao curso de Python!\")\n"
      ],
      "metadata": {
        "id": "yeU-n7JCU-e0"
      },
      "execution_count": null,
      "outputs": []
    },
    {
      "cell_type": "code",
      "source": [
        "saudacao()"
      ],
      "metadata": {
        "colab": {
          "base_uri": "https://localhost:8080/"
        },
        "id": "1_xnwlylVC74",
        "outputId": "87d995fc-0fbe-4661-8123-f90ac5ae9244"
      },
      "execution_count": null,
      "outputs": [
        {
          "output_type": "stream",
          "name": "stdout",
          "text": [
            "Olá! Seja bem-vindo(a) ao curso de Python!\n"
          ]
        }
      ]
    },
    {
      "cell_type": "code",
      "source": [
        "from datetime import datetime\n",
        "\n",
        "def mostrar_horario():\n",
        "    agora = datetime.now()\n",
        "    print(f\"Horário atual: {agora.strftime('%H:%M:%S')}\")"
      ],
      "metadata": {
        "id": "vW8BJkBeVrDu"
      },
      "execution_count": null,
      "outputs": []
    },
    {
      "cell_type": "code",
      "source": [
        "mostrar_horario()"
      ],
      "metadata": {
        "colab": {
          "base_uri": "https://localhost:8080/"
        },
        "id": "YQktlLjbVslf",
        "outputId": "a34d806c-4e1d-4665-fe03-1813f970fe97"
      },
      "execution_count": null,
      "outputs": [
        {
          "output_type": "stream",
          "name": "stdout",
          "text": [
            "Horário atual: 02:01:58\n"
          ]
        }
      ]
    },
    {
      "cell_type": "code",
      "source": [
        "from datetime import date\n",
        "date.today()"
      ],
      "metadata": {
        "colab": {
          "base_uri": "https://localhost:8080/"
        },
        "id": "SH4ua25EWqo5",
        "outputId": "619850c4-8826-46fc-f75e-687e26480558"
      },
      "execution_count": null,
      "outputs": [
        {
          "output_type": "execute_result",
          "data": {
            "text/plain": [
              "datetime.date(2025, 10, 10)"
            ]
          },
          "metadata": {},
          "execution_count": 31
        }
      ]
    },
    {
      "cell_type": "markdown",
      "source": [
        "# Função sem Parâmetro e com Retorno"
      ],
      "metadata": {
        "id": "4HTyBCvCbxQL"
      }
    },
    {
      "cell_type": "code",
      "source": [
        "def mensagem():\n",
        "  return \"Hoje é um ótimo dia para programar!\""
      ],
      "metadata": {
        "id": "EoNm6zYbbz81"
      },
      "execution_count": null,
      "outputs": []
    },
    {
      "cell_type": "code",
      "source": [
        "print(mensagem())"
      ],
      "metadata": {
        "colab": {
          "base_uri": "https://localhost:8080/"
        },
        "id": "s1iPl6Glb5Ec",
        "outputId": "13efca34-5fce-4924-ff12-55169a54f692"
      },
      "execution_count": null,
      "outputs": [
        {
          "output_type": "stream",
          "name": "stdout",
          "text": [
            "Hoje é um ótimo dia para programar!\n"
          ]
        }
      ]
    },
    {
      "cell_type": "code",
      "source": [
        "def soma ():\n",
        "  nota1=float(input(\"Digite a primeira nota \"))\n",
        "  nota2=float(input(\"Digite a segunda nota \"))\n",
        "  nota3=float(input(\"Digite a terceira nota \"))\n",
        "  total = nota1+nota2+nota3\n",
        "  return total"
      ],
      "metadata": {
        "id": "EShsKonWcsWg"
      },
      "execution_count": null,
      "outputs": []
    },
    {
      "cell_type": "code",
      "source": [
        "  somatresnotas= soma()"
      ],
      "metadata": {
        "colab": {
          "base_uri": "https://localhost:8080/"
        },
        "id": "36Ndwc69rJcd",
        "outputId": "66afe681-f7f1-4bc9-fe30-4dd032692069"
      },
      "execution_count": null,
      "outputs": [
        {
          "name": "stdout",
          "output_type": "stream",
          "text": [
            "Digite a primeira nota 4.5\n",
            "Digite a segunda nota 5.5\n",
            "Digite a terceira nota 8.7\n"
          ]
        }
      ]
    },
    {
      "cell_type": "code",
      "source": [
        "def descobertadamedia ():\n",
        "  media= somatresnotas/ 3\n",
        "  return media\n",
        "\n",
        "resultado = descobertadamedia()\n",
        "print(f\"A média das notas é {resultado:.2f}\")"
      ],
      "metadata": {
        "colab": {
          "base_uri": "https://localhost:8080/"
        },
        "id": "kDuJsuFPrFSG",
        "outputId": "2c5be691-56e5-461a-8081-bab5a2d56892"
      },
      "execution_count": null,
      "outputs": [
        {
          "output_type": "stream",
          "name": "stdout",
          "text": [
            "A média das notas é 6.23\n"
          ]
        }
      ]
    },
    {
      "cell_type": "markdown",
      "source": [
        "# Função com Parâmetro e com Retorno"
      ],
      "metadata": {
        "id": "DHv8PUoyqxA_"
      }
    },
    {
      "cell_type": "code",
      "source": [
        "def calcular_total(preco_unitario,quantidade):\n",
        "  total=preco_unitario*quantidade\n",
        "  return total\n",
        "preco_unitario =float(input(\"Digite o preço do produto: \"))\n",
        "quantidade =float(input(\"Digite a quantidade: \"))\n",
        "valor= calcular_total(preco_unitario,quantidade)\n",
        "print(f\"O valor total da compra é de: {valor}\")"
      ],
      "metadata": {
        "colab": {
          "base_uri": "https://localhost:8080/"
        },
        "id": "0FMEzqGNs34G",
        "outputId": "2db39509-f401-4048-8ff6-f19330962221"
      },
      "execution_count": null,
      "outputs": [
        {
          "output_type": "stream",
          "name": "stdout",
          "text": [
            "Digite o preço do produto: 20\n",
            "Digite a quantidade9\n",
            "O valor total da compra é de: 180.0\n"
          ]
        }
      ]
    },
    {
      "cell_type": "code",
      "source": [
        "def calcular_peso (peso,altura):\n",
        "  imc=peso/(altura**2)\n",
        "  return imc\n",
        "peso=float(input(\"Digite seu peso: \"))\n",
        "altura=float(input(\"Digite sua altura: \"))"
      ],
      "metadata": {
        "colab": {
          "base_uri": "https://localhost:8080/"
        },
        "id": "FWzUWjGCq2j4",
        "outputId": "441ef09c-917e-4761-c3ec-bac91696a55f"
      },
      "execution_count": null,
      "outputs": [
        {
          "name": "stdout",
          "output_type": "stream",
          "text": [
            "Digite seu peso: 40\n",
            "Digite sua altura: 1.53\n"
          ]
        }
      ]
    },
    {
      "cell_type": "code",
      "source": [
        "resultado= calcular_peso(peso,altura)\n",
        "print(f\"Seu IMC é: {resultado:.2f}\")"
      ],
      "metadata": {
        "colab": {
          "base_uri": "https://localhost:8080/"
        },
        "id": "Tstujcfnr7CZ",
        "outputId": "dbb96c4c-68fc-4b16-b880-a9b174bc675e"
      },
      "execution_count": null,
      "outputs": [
        {
          "output_type": "stream",
          "name": "stdout",
          "text": [
            "Seu IMC é: 17.09\n"
          ]
        }
      ]
    },
    {
      "cell_type": "markdown",
      "source": [
        "# Exercícios Extras – Praticando Funções em Python"
      ],
      "metadata": {
        "id": "SHiam1_OspjA"
      }
    },
    {
      "cell_type": "markdown",
      "source": [
        "## 1) Mensagem de Boas-vindas\n",
        "\n",
        "Crie uma função chamada saudacao que não recebe parâmetros e simplesmente imprime na tela a mensagem que você escolher.\n",
        "\n",
        "Nome da Função: boas_vindas(), escolha a saudação\n",
        "\n",
        " Esta é a forma mais simples: uma função que executa uma ação (impressão) sem precisar de dados externos ou retornar um resultado.\n",
        "\n",
        " Dica: esse tipo de função é “sem parâmetro e sem retorno”."
      ],
      "metadata": {
        "id": "6exBC2YIs6BT"
      }
    },
    {
      "cell_type": "code",
      "source": [
        "def boas_vindas():\n",
        "  print(\"Olá! Seja bem-vindo(a) a nossa escola!\")"
      ],
      "metadata": {
        "id": "0pdrLiebsueZ"
      },
      "execution_count": null,
      "outputs": []
    },
    {
      "cell_type": "code",
      "source": [
        "boas_vindas ()"
      ],
      "metadata": {
        "colab": {
          "base_uri": "https://localhost:8080/"
        },
        "id": "-Apr7osTh1E0",
        "outputId": "bd7f3d65-4d74-4848-c301-ff82000ac937"
      },
      "execution_count": null,
      "outputs": [
        {
          "output_type": "stream",
          "name": "stdout",
          "text": [
            "Olá! Seja bem-vindo(a) a nossa escola!\n"
          ]
        }
      ]
    },
    {
      "cell_type": "markdown",
      "source": [
        "## 2) Conversor de Temperatura\n",
        "\n",
        "Crie uma função chamada celsius_para_fahrenheit que recebe uma temperatura em Celsius ($C$) e retorna a temperatura equivalente em Fahrenheit ($F$).\n",
        "\n",
        "$$\n",
        "F = C \\times \\frac{9}{5} + 32\n",
        "$$\n",
        "\n",
        " Lembre-se de converter a fração para decimal para garantir o cálculo correto e usar o return para devolver o valor."
      ],
      "metadata": {
        "id": "sNzzMD-Vs9FD"
      }
    },
    {
      "cell_type": "code",
      "source": [
        "def c_p_f ():\n",
        "  temp=float(input(\"Digite a temperatura em Celsius: \"))\n",
        "  fahrenheit=temp*1.8+32\n",
        "  return fahrenheit"
      ],
      "metadata": {
        "id": "n7LaN-VFtIGB"
      },
      "execution_count": null,
      "outputs": []
    },
    {
      "cell_type": "code",
      "source": [
        "resultado= c_p_f()\n",
        "print(f\"A temperatura em Fahrenheit é: {resultado}ºF\")"
      ],
      "metadata": {
        "colab": {
          "base_uri": "https://localhost:8080/"
        },
        "id": "sekurCGHjyNr",
        "outputId": "1e2eab23-5e6c-4107-d3a4-dab55cef6438"
      },
      "execution_count": null,
      "outputs": [
        {
          "output_type": "stream",
          "name": "stdout",
          "text": [
            "Digite a temperatura em Celsius: 32\n",
            "A temperatura em Fahrenheit é: 89.6ºF\n"
          ]
        }
      ]
    },
    {
      "cell_type": "markdown",
      "source": [
        "## 3) Mensagem Personalizada\n",
        "\n",
        "Crie uma função chamada boas_vindas_personalizada que recebe um parâmetro nome (string) e imprime uma mensagem de boas-vindas usando esse nome (Ex: \"Olá, [Nome]! Seja bem-vindo.\").\n",
        "\n",
        " Esta função recebe um parâmetro, mas não precisa de um retorno, pois sua finalidade é apenas a exibição na tela."
      ],
      "metadata": {
        "id": "m8OVRXvxftWI"
      }
    },
    {
      "cell_type": "code",
      "source": [
        "def  boas_vindas_personalizada(nome):\n",
        "  print(f\"Olá, {nome}! seja bem-vindo!.\")"
      ],
      "metadata": {
        "id": "W8kpim9pfwqq"
      },
      "execution_count": null,
      "outputs": []
    },
    {
      "cell_type": "code",
      "source": [
        "nome= input(\"Digite seu nome \")\n",
        "boas_vindas_personalizada(nome)"
      ],
      "metadata": {
        "colab": {
          "base_uri": "https://localhost:8080/"
        },
        "id": "kgTlSPhznfIO",
        "outputId": "944c8945-cc5e-447a-d9d2-195a1c73272f"
      },
      "execution_count": null,
      "outputs": [
        {
          "output_type": "stream",
          "name": "stdout",
          "text": [
            "Digite seu nome vic\n",
            "Olá, vic! seja bem-vindo!.\n"
          ]
        }
      ]
    },
    {
      "cell_type": "markdown",
      "source": [
        "## 4) Quadrado e Cubo\n",
        "\n",
        "Crie uma função chamada calcular_potencias que recebe um número n e retorna o quadrado e o cubo desse número em uma tupla.\n",
        "\n",
        " A função deve retornar dois valores. Lembre-se que em Python, você pode retornar múltiplos valores, que são automaticamente empacotados em uma tupla."
      ],
      "metadata": {
        "id": "XXiQqd5zfw-J"
      }
    },
    {
      "cell_type": "code",
      "source": [
        "def calcular_potencias(n):\n",
        "  quadrado = n ** 2\n",
        "  cubo = n ** 3\n",
        "  return quadrado, cubo\n",
        "q, c = calcular_potencias(3)\n",
        "print(\"Quadrado:\", q)\n",
        "print(\"Cubo:\", c)\n"
      ],
      "metadata": {
        "colab": {
          "base_uri": "https://localhost:8080/"
        },
        "id": "iNX2gpOEfzmJ",
        "outputId": "6cdf62b6-8145-4442-8138-f04fa9aa7ed5"
      },
      "execution_count": null,
      "outputs": [
        {
          "output_type": "stream",
          "name": "stdout",
          "text": [
            "Quadrado: 9\n",
            "Cubo: 27\n"
          ]
        }
      ]
    },
    {
      "cell_type": "markdown",
      "source": [
        "## 5) Contagem Regressiva\n",
        "\n",
        "Crie uma função chamada contagem_regressiva que recebe um número inteiro inicio e imprime todos os números de inicio até 1.\n",
        "\n",
        " Use um laço de repetição (for ou while) para iterar e imprimir os números sequencialmente. Não é necessário retornar nada."
      ],
      "metadata": {
        "id": "R3J_i6vngNJH"
      }
    },
    {
      "cell_type": "code",
      "source": [
        "def contagem_regressiva (inicio):\n",
        "  while inicio >= 1:\n",
        "    print(inicio)\n",
        "    inicio -= 1\n",
        "inicial=int(input(\"Digite o número para começar a contagem regressiva: \"))\n",
        "contagem_regressiva(inicial)"
      ],
      "metadata": {
        "colab": {
          "base_uri": "https://localhost:8080/"
        },
        "id": "vKYlMryrgR4Y",
        "outputId": "dc328445-ff07-493c-fe6e-ed561a12f00e"
      },
      "execution_count": null,
      "outputs": [
        {
          "output_type": "stream",
          "name": "stdout",
          "text": [
            "Digite o número para começar a contagem regressiva: 10\n",
            "10\n",
            "9\n",
            "8\n",
            "7\n",
            "6\n",
            "5\n",
            "4\n",
            "3\n",
            "2\n",
            "1\n"
          ]
        }
      ]
    },
    {
      "cell_type": "markdown",
      "source": [
        "## 6) Cálculo de Desconto\n",
        "\n",
        "Desenvolva uma função chamada calcular_desconto que aceita valor_original e percentual_desconto como parâmetros e retorna o valor final após aplicar o desconto.\n",
        "\n",
        "$$\n",
        "\\text{Valor Final} = \\text{Valor Original} \\times (1 - \\frac{\\text{Percentual Desconto}}{100})\n",
        "$$\n",
        "\n",
        " Para calcular o percentual corretamente, divida o percentual_desconto por 100 antes de subtrair de 1."
      ],
      "metadata": {
        "id": "fM-ZXsCpgSe3"
      }
    },
    {
      "cell_type": "code",
      "source": [
        "def  calcular_desconto (valor_original ,percentual_desconto ):\n",
        "   valorfinal=valor_original*(1-desconto/100)\n",
        "   return valorfinal\n",
        "valor_orig=float(input(\"Digite o valor do produto: \"))\n",
        "desconto=float(input(\"Digite o valor do desconto: \"))\n",
        "valor_final = calcular_desconto(valor_orig,desconto)\n",
        "print(f\"\\nValor final com desconto: R$ {valor_final:.2f}\")"
      ],
      "metadata": {
        "colab": {
          "base_uri": "https://localhost:8080/"
        },
        "id": "1BH7gupkgYTi",
        "outputId": "04465b2d-ae16-48ce-865b-ff8f32511680"
      },
      "execution_count": null,
      "outputs": [
        {
          "output_type": "stream",
          "name": "stdout",
          "text": [
            "Digite o valor do produto: 100\n",
            "Digite o valor do desconto: 10\n",
            "\n",
            "Valor final com desconto: R$ 90.00\n"
          ]
        }
      ]
    },
    {
      "cell_type": "markdown",
      "source": [
        "## 7) Maior e Menor\n",
        "\n",
        "Crie uma função chamada encontrar_extremos que recebe uma lista de números e retorna o maior e o menor número da lista.\n",
        "\n",
        " Você pode explorar as funções nativas do Python max() e min() para uma solução concisa, ou implementar a lógica de comparação manualmente."
      ],
      "metadata": {
        "id": "SkQEuSadgZAK"
      }
    },
    {
      "cell_type": "code",
      "source": [
        "def encontrar_extremos(numeros):\n",
        "  maior=max(numeros)\n",
        "  menor=min(numeros)\n",
        "  return(maior,menor)\n",
        "lista=[2,6,9,1,-8,4,7,12]\n",
        "maior, menor = encontrar_extremos(lista)\n",
        "\n",
        "print(f\"Maior número: {maior}\")\n",
        "print(f\"Menor número: {menor}\")"
      ],
      "metadata": {
        "colab": {
          "base_uri": "https://localhost:8080/"
        },
        "id": "4kxnZz0jgfSq",
        "outputId": "f36c755d-2fd4-4022-fc24-b7bead25bb57"
      },
      "execution_count": null,
      "outputs": [
        {
          "output_type": "stream",
          "name": "stdout",
          "text": [
            "Maior número: 12\n",
            "Menor número: -8\n"
          ]
        }
      ]
    },
    {
      "cell_type": "markdown",
      "source": [
        "## 8) Calculadora Simples\n",
        "\n",
        "Crie uma função chamada calculadora que recebe dois números (a e b) e uma operacao (string: 'soma', 'subtracao', 'multiplicacao', 'divisao') e retorna o resultado da operação.\n",
        "\n",
        " Use estruturas condicionais (if/elif/else) para determinar qual cálculo realizar e adicione uma verificação para evitar divisão por zero."
      ],
      "metadata": {
        "id": "8IzAjZALgf0P"
      }
    },
    {
      "cell_type": "code",
      "source": [
        "def calculadora ():\n",
        "  a=float(input(\"Digite o primeiro valor: \"))\n",
        "  b=float(input(\"Digite o segundo  valor: \"))\n",
        "  operacao=input(\"Digite a operação desejada: \")\n",
        "\n",
        "  if operacao=='soma':\n",
        "    return a+b\n",
        "  elif operacao == 'subtracao':\n",
        "    return a-b\n",
        "  elif operacao == 'multiplicacao':\n",
        "    return a*b\n",
        "  elif operacao == 'divisao':\n",
        "     if b == 0:\n",
        "        return \"Erro: divisão por zero não é permitida.\"\n",
        "     else:\n",
        "      return a / b\n",
        "\n",
        "  else:\n",
        "   return \"Operação inválida. Use: soma, subtracao, multiplicacao ou divisao.\"\n",
        "resultado = calculadora()\n",
        "print(\"Resultado:\", resultado)\n",
        "\n",
        "\n"
      ],
      "metadata": {
        "id": "13n-jHVLg4he",
        "colab": {
          "base_uri": "https://localhost:8080/"
        },
        "outputId": "d4275789-11dd-4223-e6c0-82d5ff471048"
      },
      "execution_count": 9,
      "outputs": [
        {
          "output_type": "stream",
          "name": "stdout",
          "text": [
            "Digite o primeiro valor: 40\n",
            "Digite o segundo  valor: 8\n",
            "Digite a operação desejada: multiplicacao\n",
            "Resultado: 320.0\n"
          ]
        }
      ]
    },
    {
      "cell_type": "markdown",
      "source": [
        "## 9) Mensagem Automática\n",
        "\n",
        "Crie uma função chamada enviar_email que recebe destinatario e assunto, e opcionalmente um corpo da mensagem. Se o corpo não for fornecido, use um texto padrão como \"Este é um email automático.\"\n",
        "\n",
        " Defina o parâmetro corpo com um valor padrão (default value) na assinatura da função para torná-lo opcional.\n",
        "\n"
      ],
      "metadata": {
        "id": "2LTy94_Rg5Ru"
      }
    },
    {
      "cell_type": "code",
      "source": [
        "def enviar_email(destinatario, assunto, corpo=\"Este é um email automático.\"):\n",
        "    print(\"=== Enviando Email ===\")\n",
        "    print(f\"Para: {destinatario}\")\n",
        "    print(f\"Assunto: {assunto}\")\n",
        "    print(f\"Corpo: {corpo}\")\n",
        "\n",
        "enviar_email(\"joao@example.com\", \"Reunião de amanhã\")\n",
        "print()\n",
        "enviar_email(\"maria@example.com\", \"Relatório semanal\", \"Segue o relatório anexo.\")\n"
      ],
      "metadata": {
        "id": "n4x845KPg_II",
        "colab": {
          "base_uri": "https://localhost:8080/"
        },
        "outputId": "ee8ebae2-4e52-44d7-f9e3-f55a0f3e98a9"
      },
      "execution_count": 10,
      "outputs": [
        {
          "output_type": "stream",
          "name": "stdout",
          "text": [
            "=== Enviando Email ===\n",
            "Para: joao@example.com\n",
            "Assunto: Reunião de amanhã\n",
            "Corpo: Este é um email automático.\n",
            "\n",
            "=== Enviando Email ===\n",
            "Para: maria@example.com\n",
            "Assunto: Relatório semanal\n",
            "Corpo: Segue o relatório anexo.\n"
          ]
        }
      ]
    },
    {
      "cell_type": "markdown",
      "source": [
        "## 10) Sistema de Notas\n",
        "\n",
        "Desenvolva uma função chamada avaliar_aluno que recebe uma nota (número) e retorna uma string indicando a situação do aluno: \"Aprovado\" (nota $\\ge 7$), \"Recuperação\" ($\\ge 5$ e $< 7$) ou \"Reprovado\" ($< 5$).\n",
        "\n",
        " Lembre-se de usar operadores lógicos como and para definir os intervalos de notas de forma clara."
      ],
      "metadata": {
        "id": "iWIIi9ODg_hW"
      }
    },
    {
      "cell_type": "code",
      "source": [
        "def avaliar_aluno (notas):\n",
        "  if notas >= 7:\n",
        "    return 'Aprovado!'\n",
        "  elif notas >= 5 and notas < 7:\n",
        "    return 'Recuperação!'\n",
        "  elif notas < 5:\n",
        "    return 'Reprovado!'\n",
        "notas= float(input(\"Digite a nota do aluno: \"))\n",
        "resultado = avaliar_aluno(notas)\n",
        "print(\"Situação do aluno:\", resultado)\n"
      ],
      "metadata": {
        "id": "BMO81Cz2hFD0",
        "colab": {
          "base_uri": "https://localhost:8080/"
        },
        "outputId": "1a0a241d-0637-43ca-967e-ee9d7ca4dbe9"
      },
      "execution_count": 15,
      "outputs": [
        {
          "output_type": "stream",
          "name": "stdout",
          "text": [
            "Digite a nota do aluno: 4\n",
            "Situação do aluno: Reprovado!\n"
          ]
        }
      ]
    }
  ]
}