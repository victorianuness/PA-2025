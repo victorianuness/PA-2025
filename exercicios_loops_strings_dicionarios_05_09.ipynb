{
  "cells": [
    {
      "cell_type": "markdown",
      "metadata": {
        "id": "view-in-github",
        "colab_type": "text"
      },
      "source": [
        "<a href=\"https://colab.research.google.com/github/victorianuness/PA-2025/blob/main/exercicios_loops_strings_dicionarios_05_09.ipynb\" target=\"_parent\"><img src=\"https://colab.research.google.com/assets/colab-badge.svg\" alt=\"Open In Colab\"/></a>"
      ]
    },
    {
      "cell_type": "markdown",
      "id": "50e41763",
      "metadata": {
        "id": "50e41763"
      },
      "source": [
        "# Lista de Exercícios - Python (Loops, Strings e Dicionários)\n",
        "Este notebook contém 15 exercícios para praticar `for`, `while`, manipulação de **strings** e **dicionários`."
      ]
    },
    {
      "cell_type": "markdown",
      "id": "6c5e8da0",
      "metadata": {
        "id": "6c5e8da0"
      },
      "source": [
        "### 1. **Contagem de vogais**: Peça uma palavra e conte quantas vezes cada vogal aparece (usar `for` ou `while`)."
      ]
    },
    {
      "cell_type": "code",
      "source": [
        "palavra=input(\"Digite uma palavra: \")\n",
        "for i in palavra:\n",
        "  if i in \"aeiou\":\n",
        "    print(i,palavra.count(i))"
      ],
      "metadata": {
        "colab": {
          "base_uri": "https://localhost:8080/"
        },
        "id": "0cOEwr1xKl3d",
        "outputId": "f599a97f-4e98-4b9d-b6a3-1f22c8b141fa"
      },
      "id": "0cOEwr1xKl3d",
      "execution_count": 40,
      "outputs": [
        {
          "output_type": "stream",
          "name": "stdout",
          "text": [
            "Digite uma palavra: victoria\n",
            "i 2\n",
            "o 1\n",
            "i 2\n",
            "a 1\n"
          ]
        }
      ]
    },
    {
      "cell_type": "code",
      "source": [
        "palavra=input(\"Digite uma palavra: \").lower()\n",
        "for i in palavra:\n",
        " a = palavra.count('a')\n",
        " e = palavra.count('e')\n",
        " i = palavra.count('i')\n",
        " o = palavra.count('o')\n",
        " u = palavra.count('u')\n",
        "\n",
        "print('A =', a)\n",
        "print('E =',e )\n",
        "print('I=',i)\n",
        "print('O =',o)\n",
        "print('U =',u)\n"
      ],
      "metadata": {
        "colab": {
          "base_uri": "https://localhost:8080/"
        },
        "id": "rFNrPGsK-BIM",
        "outputId": "d1b55c99-7202-4aa0-ab0b-65b713d961ba"
      },
      "id": "rFNrPGsK-BIM",
      "execution_count": 13,
      "outputs": [
        {
          "output_type": "stream",
          "name": "stdout",
          "text": [
            "Digite uma palavra: amora\n",
            "A = 2\n",
            "E = 0\n",
            "I= 0\n",
            "O =  1\n",
            "U = 0\n"
          ]
        }
      ]
    },
    {
      "cell_type": "markdown",
      "id": "2446d942",
      "metadata": {
        "id": "2446d942"
      },
      "source": [
        "### 2. **Inversão de string**: Solicite uma frase e mostre-a invertida **sem usar slicing** (`[::-1]` não vale). Use `while`."
      ]
    },
    {
      "cell_type": "code",
      "source": [
        "\n",
        "frase = input(\"Digite uma frase: \")\n",
        "frase_invertida = \"\"\n",
        "i = len(frase) - 1\n",
        "while i >= 0:\n",
        "    frase_invertida += frase[i]\n",
        "    i -= 1\n",
        "print(\"Frase invertida:\", frase_invertida)\n"
      ],
      "metadata": {
        "colab": {
          "base_uri": "https://localhost:8080/"
        },
        "id": "2LzShGisBTto",
        "outputId": "a17cd392-2534-4c42-e67b-40ef48ab3891"
      },
      "id": "2LzShGisBTto",
      "execution_count": 18,
      "outputs": [
        {
          "output_type": "stream",
          "name": "stdout",
          "text": [
            "Digite uma frase: rebeca\n",
            "Frase invertida: aceber\n"
          ]
        }
      ]
    },
    {
      "cell_type": "markdown",
      "id": "096a5b5d",
      "metadata": {
        "id": "096a5b5d"
      },
      "source": [
        "### 3. **Frequência de caracteres**: Dada uma string, crie um dicionário que mostre quantas vezes cada caractere aparece."
      ]
    },
    {
      "cell_type": "code",
      "execution_count": 42,
      "id": "bd28dd49",
      "metadata": {
        "id": "bd28dd49",
        "colab": {
          "base_uri": "https://localhost:8080/"
        },
        "outputId": "5e1c33bd-ecf7-4710-bded-6fe7439565e7"
      },
      "outputs": [
        {
          "output_type": "stream",
          "name": "stdout",
          "text": [
            "Digite uma string: bom,dia,flor.do.dia\n",
            "{'b': 1, 'o': 3, 'm': 1, ',': 2, 'd': 3, 'i': 2, 'a': 2, 'f': 1, 'l': 1, 'r': 1, '.': 2}\n"
          ]
        }
      ],
      "source": [
        "texto=input(\"Digite uma string: \")\n",
        "freq= {}\n",
        "for ch in texto:\n",
        "  freq[ch] = freq.get(ch,0) + 1\n",
        "\n",
        "print(freq)"
      ]
    },
    {
      "cell_type": "markdown",
      "id": "d046cc57",
      "metadata": {
        "id": "d046cc57"
      },
      "source": [
        "### 4. **Palavras únicas**: Peça uma frase e mostre as palavras que aparecem **apenas uma vez**."
      ]
    },
    {
      "cell_type": "code",
      "execution_count": 23,
      "id": "092bef79",
      "metadata": {
        "id": "092bef79",
        "colab": {
          "base_uri": "https://localhost:8080/"
        },
        "outputId": "f4852dbb-1d37-4bd4-c977-c47fb4ef34e9"
      },
      "outputs": [
        {
          "output_type": "stream",
          "name": "stdout",
          "text": [
            "Digite uma frase: eu amo amo pipoca\n",
            "eu\n",
            "pipoca\n"
          ]
        }
      ],
      "source": [
        "frase= input(\"Digite uma frase: \")\n",
        "frase=frase.split()\n",
        "for i in frase:\n",
        "  if frase.count(i)==1:\n",
        "   print(i)"
      ]
    },
    {
      "cell_type": "markdown",
      "id": "3ea99323",
      "metadata": {
        "id": "3ea99323"
      },
      "source": [
        "### 5. **Substituição manual**: Peça uma string e duas letras: substitua **manualmente** todas as ocorrências da primeira letra pela segunda, usando laço."
      ]
    },
    {
      "cell_type": "code",
      "execution_count": 24,
      "id": "4d1406be",
      "metadata": {
        "id": "4d1406be",
        "colab": {
          "base_uri": "https://localhost:8080/"
        },
        "outputId": "2e6011df-42bb-4821-ae69-050468242439"
      },
      "outputs": [
        {
          "output_type": "stream",
          "name": "stdout",
          "text": [
            "Digite uma frase:eu amo, oque? pipoca! af tchau, tchau, era pra vc ter falado tchau pipoca, oxi pq? nada deixa, tchau, tchaub \n",
            "Digite a primeira letra: p\n",
            "Digite a segunda letra: t\n",
            "eu amo, oque? titoca! af tchau, tchau, era tra vc ter falado tchau titoca, oxi tq? nada deixa, tchau, tchaub \n"
          ]
        }
      ],
      "source": [
        "# Sua resposta aqui\n",
        "frase= input(\"Digite uma frase:\")\n",
        "letra1=input(\"Digite a primeira letra: \")\n",
        "letra2=input(\"Digite a segunda letra: \")\n",
        "for i in frase:\n",
        "  if i==letra1:\n",
        "    frase=frase.replace(letra1,letra2)\n",
        "print(frase)"
      ]
    },
    {
      "cell_type": "markdown",
      "id": "870e9e64",
      "metadata": {
        "id": "870e9e64"
      },
      "source": [
        "### 6. **Palíndromo**: Verifique se uma palavra é um **palíndromo** sem usar funções prontas de reversão."
      ]
    },
    {
      "cell_type": "code",
      "source": [
        "palavra = input(\"Digite uma palavra: \")\n",
        "\n",
        "# Inverter a palavra manualmente usando while\n",
        "i = len(palavra) - 1\n",
        "palavra_invertida = \"\"\n",
        "\n",
        "while i >= 0:\n",
        "    palavra_invertida += palavra[i]\n",
        "    i -= 1\n",
        "\n",
        "# Verifica se é palíndromo\n",
        "if palavra == palavra_invertida:\n",
        "    print(\"É um palíndromo\")\n",
        "else:\n",
        "    print(\"Não é um palíndromo\")\n"
      ],
      "metadata": {
        "id": "ApiSvotnIiln"
      },
      "id": "ApiSvotnIiln",
      "execution_count": null,
      "outputs": []
    },
    {
      "cell_type": "markdown",
      "id": "ce1b0e1f",
      "metadata": {
        "id": "ce1b0e1f"
      },
      "source": [
        "### 7. **Enigma da senha**: Peça uma string e crie uma nova palavra pegando apenas as letras nas **posições ímpares**."
      ]
    },
    {
      "cell_type": "code",
      "execution_count": 46,
      "id": "9fc744d2",
      "metadata": {
        "id": "9fc744d2",
        "colab": {
          "base_uri": "https://localhost:8080/"
        },
        "outputId": "69479cf6-122d-467c-fa7b-0085e2a197ae"
      },
      "outputs": [
        {
          "output_type": "stream",
          "name": "stdout",
          "text": [
            "Digite uma palavra ou frase: rebeca\n",
            "Nova palavra formada: rbc\n"
          ]
        }
      ],
      "source": [
        "# Sua resposta aqui\n",
        "\n",
        "texto = input(\"Digite uma palavra ou frase: \")\n",
        "\n",
        "nova_palavra = \"\"\n",
        "i = 0  # Começa do índice 1 (posição ímpar)\n",
        "\n",
        "while i < len(texto):\n",
        "    nova_palavra += texto[i]\n",
        "    i += 2  # Pula para o próximo índice ímpar\n",
        "\n",
        "print(\"Nova palavra formada:\", nova_palavra)\n"
      ]
    },
    {
      "cell_type": "markdown",
      "id": "42fe1350",
      "metadata": {
        "id": "42fe1350"
      },
      "source": [
        "### 8. **Expansão de abreviações**: Dado um dicionário de abreviações, substitua manualmente cada ocorrência em uma frase.\n",
        "\n",
        "(Ex: (vc: você, blz: beleza ..."
      ]
    },
    {
      "cell_type": "code",
      "execution_count": null,
      "id": "e63acd2a",
      "metadata": {
        "id": "e63acd2a"
      },
      "outputs": [],
      "source": [
        "dicionario = {vc: você, blz:beleza}"
      ]
    },
    {
      "cell_type": "markdown",
      "id": "3cf96a02",
      "metadata": {
        "id": "3cf96a02"
      },
      "source": [
        "### 9. **Criptografia simples**: Implemente uma cifra de substituição onde cada letra é trocada pela **próxima no alfabeto** (z → a)."
      ]
    },
    {
      "cell_type": "code",
      "execution_count": 54,
      "id": "c8a0d724",
      "metadata": {
        "id": "c8a0d724",
        "colab": {
          "base_uri": "https://localhost:8080/"
        },
        "outputId": "5c657982-d86b-4617-83b7-566e841d5cdc"
      },
      "outputs": [
        {
          "output_type": "stream",
          "name": "stdout",
          "text": [
            "Digite uma palavra: arara\n",
            "Texto criptografado: bsbsb\n"
          ]
        }
      ],
      "source": [
        "texto = input(\"Digite uma palavra: \").lower()\n",
        "alfabeto = \"abcdefghijklmnopqrstuvwxyz\"\n",
        "resultado = ''\n",
        "\n",
        "for letra in texto:\n",
        "    if letra in alfabeto:\n",
        "        idx = (alfabeto.index(letra) + 1) % 26\n",
        "        resultado += alfabeto[idx]\n",
        "    else:\n",
        "        resultado += letra  # mantém caracteres especiais, espaços, etc.\n",
        "\n",
        "print(\"Texto criptografado:\", resultado)\n"
      ]
    },
    {
      "cell_type": "markdown",
      "id": "4897443b",
      "metadata": {
        "id": "4897443b"
      },
      "source": [
        "### 10. **Anagrama**: Verifique se duas palavras são **anagramas**, usando dicionário para contar ocorrências."
      ]
    },
    {
      "cell_type": "code",
      "execution_count": 56,
      "id": "4c53848e",
      "metadata": {
        "id": "4c53848e",
        "colab": {
          "base_uri": "https://localhost:8080/"
        },
        "outputId": "4ca9e2a9-66fd-4010-eeda-5fd4d7b63a54"
      },
      "outputs": [
        {
          "output_type": "stream",
          "name": "stdout",
          "text": [
            "Digite a primeira palavra: roma\n",
            "Digite a segunda palavra: amor\n",
            "São anagramas!\n"
          ]
        }
      ],
      "source": [
        "palavra1 = input(\"Digite a primeira palavra: \").lower()\n",
        "palavra2 = input(\"Digite a segunda palavra: \").lower()\n",
        "\n",
        "contagem1 = {}\n",
        "contagem2 = {}\n",
        "\n",
        "for letra in palavra1:\n",
        "    if letra in contagem1:\n",
        "        contagem1[letra] += 1\n",
        "    else:\n",
        "        contagem1[letra] = 1\n",
        "\n",
        "for letra in palavra2:\n",
        "    if letra in contagem2:\n",
        "        contagem2[letra] += 1\n",
        "    else:\n",
        "        contagem2[letra] = 1\n",
        "\n",
        "\n",
        "if contagem1 == contagem2:\n",
        "    print(\"São anagramas!\")\n",
        "else:\n",
        "    print(\"Não são anagramas\")\n"
      ]
    }
  ],
  "metadata": {
    "colab": {
      "provenance": [],
      "include_colab_link": true
    },
    "language_info": {
      "name": "python"
    },
    "kernelspec": {
      "name": "python3",
      "display_name": "Python 3"
    }
  },
  "nbformat": 4,
  "nbformat_minor": 5
}