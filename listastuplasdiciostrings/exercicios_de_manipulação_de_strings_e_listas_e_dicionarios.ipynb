{
  "nbformat": 4,
  "nbformat_minor": 0,
  "metadata": {
    "colab": {
      "provenance": [],
      "authorship_tag": "ABX9TyPubGlrjvEHuyAvUusOqwNU",
      "include_colab_link": true
    },
    "kernelspec": {
      "name": "python3",
      "display_name": "Python 3"
    },
    "language_info": {
      "name": "python"
    }
  },
  "cells": [
    {
      "cell_type": "markdown",
      "metadata": {
        "id": "view-in-github",
        "colab_type": "text"
      },
      "source": [
        "<a href=\"https://colab.research.google.com/github/victorianuness/PA-2025/blob/main/listastuplasdiciostrings/exercicios_de_manipula%C3%A7%C3%A3o_de_strings_e_listas_e_dicionarios.ipynb\" target=\"_parent\"><img src=\"https://colab.research.google.com/assets/colab-badge.svg\" alt=\"Open In Colab\"/></a>"
      ]
    },
    {
      "cell_type": "markdown",
      "source": [
        "# Manipulação de strings\n"
      ],
      "metadata": {
        "id": "mKxFQFMj3TGY"
      }
    },
    {
      "cell_type": "code",
      "execution_count": 1,
      "metadata": {
        "colab": {
          "base_uri": "https://localhost:8080/"
        },
        "id": "-1gBtuog22Vk",
        "outputId": "8ba5d936-7385-4bc5-cb61-612ea6f8a62d"
      },
      "outputs": [
        {
          "output_type": "stream",
          "name": "stdout",
          "text": [
            "11\n"
          ]
        }
      ],
      "source": [
        "# 1 - Use o método len para imprimir o comprimento da string.\n",
        "x = \"Hello World\"\n",
        "print(len(x))"
      ]
    },
    {
      "cell_type": "code",
      "source": [
        "# 2 - Obtenha o primeiro caractere da string txt.\n",
        "txt = \"Hello World\"\n",
        "x = txt[0]\n",
        "print(x)"
      ],
      "metadata": {
        "colab": {
          "base_uri": "https://localhost:8080/"
        },
        "id": "9D3z2hdf3c2z",
        "outputId": "78287af8-3fbf-457b-ca0b-7805d644f864"
      },
      "execution_count": 2,
      "outputs": [
        {
          "output_type": "stream",
          "name": "stdout",
          "text": [
            "H\n"
          ]
        }
      ]
    },
    {
      "cell_type": "code",
      "source": [
        "# 3 - Obtenha os caracteres do índice 2 ao índice 4 ( llo).\n",
        "txt = 'Hello World'\n",
        "x = txt[2:5:]\n",
        "print(x)"
      ],
      "metadata": {
        "colab": {
          "base_uri": "https://localhost:8080/"
        },
        "id": "_uu4J0Cx3e-a",
        "outputId": "b87b7fcf-4d06-46e2-a903-84c624e01b3c"
      },
      "execution_count": 3,
      "outputs": [
        {
          "output_type": "stream",
          "name": "stdout",
          "text": [
            "llo\n"
          ]
        }
      ]
    },
    {
      "cell_type": "code",
      "source": [
        "# 4 - Converta o valor de txt para maiúsculas.\n",
        "txt = \"Hello World\"\n",
        "txt.upper()"
      ],
      "metadata": {
        "colab": {
          "base_uri": "https://localhost:8080/",
          "height": 35
        },
        "id": "HQ-NwIN83g_z",
        "outputId": "9f1f0e16-6387-4e5c-88fc-2e9ac5b81c21"
      },
      "execution_count": 4,
      "outputs": [
        {
          "output_type": "execute_result",
          "data": {
            "text/plain": [
              "'HELLO WORLD'"
            ],
            "application/vnd.google.colaboratory.intrinsic+json": {
              "type": "string"
            }
          },
          "metadata": {},
          "execution_count": 4
        }
      ]
    },
    {
      "cell_type": "code",
      "source": [
        "# 5 - Conte quantas vezes aparece a palavra \"de\" na string abaixo\n",
        "txt = \"Eu gosto de vijar, tomar vinho, de estudar estudar programação, de estudar Pyhon\"\n",
        "txt.count('de')"
      ],
      "metadata": {
        "colab": {
          "base_uri": "https://localhost:8080/"
        },
        "id": "9_2D7WPr3jGV",
        "outputId": "b0cc44d7-1614-4303-f929-c5edb584e394"
      },
      "execution_count": 5,
      "outputs": [
        {
          "output_type": "execute_result",
          "data": {
            "text/plain": [
              "3"
            ]
          },
          "metadata": {},
          "execution_count": 5
        }
      ]
    },
    {
      "cell_type": "code",
      "source": [
        "# 6 - Separe a frase abaixo toda vez que encontrar um vírgula\n",
        "txt = \"Eu gosto de viajar, tomar vinho, de estudar estudar programação, de estudar Pyhon\"\n",
        "txt.split(\",\")"
      ],
      "metadata": {
        "colab": {
          "base_uri": "https://localhost:8080/"
        },
        "id": "C13uVTAV3lPY",
        "outputId": "f221f6b9-8d6b-43c0-c3e1-116688bab221"
      },
      "execution_count": 6,
      "outputs": [
        {
          "output_type": "execute_result",
          "data": {
            "text/plain": [
              "['Eu gosto de viajar',\n",
              " ' tomar vinho',\n",
              " ' de estudar estudar programação',\n",
              " ' de estudar Pyhon']"
            ]
          },
          "metadata": {},
          "execution_count": 6
        }
      ]
    },
    {
      "cell_type": "code",
      "source": [
        "#7 - Peça ao usuário uma frase e substitua todas as ocorrências de espaço por “#”\n",
        "frase= input(\"Digite uma frase: \")\n",
        "frase = frase.replace(\" \", \"#\")\n",
        "print(frase)"
      ],
      "metadata": {
        "colab": {
          "base_uri": "https://localhost:8080/"
        },
        "id": "NRSHY-mu3rdn",
        "outputId": "1255395a-5b4f-4bd1-a056-709e5b5c451d"
      },
      "execution_count": 7,
      "outputs": [
        {
          "output_type": "stream",
          "name": "stdout",
          "text": [
            "Digite uma frase: amor e esperança\n",
            "amor#e#esperança\n"
          ]
        }
      ]
    },
    {
      "cell_type": "code",
      "source": [
        "# 8 - Faça um programa que retorne True se duas strings lidas do teclado são palíndromas mútuas, ou seja, se uma é igual à outra quando lida de traz para frente ou False, se não forem.\n",
        "# Por exemplo: amor e roma\n",
        "palavra1 = input(\"Digite uma palavra: \").lower()\n",
        "palavra2 = input(\"Digite outra palavra: \").lower()\n",
        "if palavra1 == palavra1[::-1]:\n",
        "  print(\"As palavras são palíndromas mútuas\")\n",
        "elif palavra2==palavra2:\n",
        "  print(\"A palavra é políndroma com ela mesma\")\n",
        "else:\n",
        "  print(\"São políndromas mútuas\")"
      ],
      "metadata": {
        "colab": {
          "base_uri": "https://localhost:8080/"
        },
        "id": "qucwkrF23vt8",
        "outputId": "3e3cacb1-7dd7-4b18-821e-b0a53585b90a"
      },
      "execution_count": 8,
      "outputs": [
        {
          "output_type": "stream",
          "name": "stdout",
          "text": [
            "Digite uma palavra: amor\n",
            "Digite outra palavra: roma\n",
            "A palavra é políndroma com ela mesma\n"
          ]
        }
      ]
    },
    {
      "cell_type": "code",
      "source": [
        "# 9- Faça um programa que leia o nome do usuário e mostre o nome de traz para frente, utilizando somente letras maiúsculas.\n",
        "nome=input(\"Digite seu nome: \").upper()\n",
        "nome[::-1]"
      ],
      "metadata": {
        "colab": {
          "base_uri": "https://localhost:8080/",
          "height": 53
        },
        "id": "-34aOCuX4OiT",
        "outputId": "d4e26872-a036-4907-f7ad-e2212a5b4df5"
      },
      "execution_count": 9,
      "outputs": [
        {
          "name": "stdout",
          "output_type": "stream",
          "text": [
            "Digite seu nome: victoria\n"
          ]
        },
        {
          "output_type": "execute_result",
          "data": {
            "text/plain": [
              "'AIROTCIV'"
            ],
            "application/vnd.google.colaboratory.intrinsic+json": {
              "type": "string"
            }
          },
          "metadata": {},
          "execution_count": 9
        }
      ]
    },
    {
      "cell_type": "markdown",
      "source": [
        "# Listas, tuplas e dicionários"
      ],
      "metadata": {
        "id": "uS-p3CWC4SMM"
      }
    },
    {
      "cell_type": "markdown",
      "source": [
        "# Exercício 1: Manipulação de Listas\n",
        "Defina uma lista com 5 nomes de cidades.\n",
        "Adicione uma nova cidade ao final da lista.\n",
        "Remova a segunda cidade da lista.\n",
        "Imprima a lista resultante."
      ],
      "metadata": {
        "id": "j2xBIGlQ4vPr"
      }
    },
    {
      "cell_type": "code",
      "source": [
        "# seu código aqui...\n",
        "\n",
        "cidades = [\"Santo André\", \"São Bernardo\", \"São Caetano\", \"Mauá\", \"Ribeirão Pires\"]\n",
        "cidades.append(\"Rio Grande da Serra\")\n",
        "cidades.pop(1)\n",
        "print(cidades)"
      ],
      "metadata": {
        "colab": {
          "base_uri": "https://localhost:8080/"
        },
        "id": "mwXI0_VT4R2l",
        "outputId": "a63ae0e7-23b9-432a-c299-bc83a0bd9ecd"
      },
      "execution_count": 10,
      "outputs": [
        {
          "output_type": "stream",
          "name": "stdout",
          "text": [
            "['Santo André', 'São Caetano', 'Mauá', 'Ribeirão Pires', 'Rio Grande da Serra']\n"
          ]
        }
      ]
    },
    {
      "cell_type": "markdown",
      "source": [
        "#Exercício 2: Operações com Tuplas\n",
        "\n",
        "Defina uma tupla com 4 cores.\n",
        "Crie uma nova tupla que seja a concatenação da tupla original com outra contendo mais 2 cores.\n",
        "Imprima a nova tupla."
      ],
      "metadata": {
        "id": "YdHRCVzx5MDa"
      }
    },
    {
      "cell_type": "code",
      "source": [
        "# seu código aqui...\n",
        "\n",
        "cores = (\"azul\",\"rosa\",\"vermelho\",\"amarelo\")\n",
        "coresnovas = cores+(\"roxo\",\"Dourado\")\n",
        "print(coresnovas)"
      ],
      "metadata": {
        "colab": {
          "base_uri": "https://localhost:8080/"
        },
        "id": "3hhFA06m5LtC",
        "outputId": "1a35dfb4-74dc-4bd8-c223-e6e20e597c7e"
      },
      "execution_count": 12,
      "outputs": [
        {
          "output_type": "stream",
          "name": "stdout",
          "text": [
            "('azul', 'rosa', 'vermelho', 'amarelo', 'roxo', 'Dourado')\n"
          ]
        }
      ]
    },
    {
      "cell_type": "markdown",
      "source": [
        "#Exercício 3: Dicionários Simples\n",
        "\n",
        "Crie um dicionário para representar um aluno, contendo \"nome\", \"idade\" e \"curso\".\n",
        "\n",
        "Atualize a idade do aluno.\n",
        "Adicione uma nova chave \"nota\" com um valor.\n",
        "Imprima o dicionário atualizado"
      ],
      "metadata": {
        "id": "cwhMPAES5Uqq"
      }
    },
    {
      "cell_type": "code",
      "source": [
        "# seu código aqui...\n",
        "\n",
        "aluno = {\n",
        "    \"nome\": \"Igor\",\n",
        "    \"idade\": 24,\n",
        "    \"curso\": \"Fisíca\",\n",
        "\n",
        "}\n",
        "aluno [\"nota\"]= \"10\"\n",
        "print(aluno)"
      ],
      "metadata": {
        "colab": {
          "base_uri": "https://localhost:8080/"
        },
        "id": "Z_j4Hc1o57ZV",
        "outputId": "ca0f7888-3339-4729-be21-c3a0afb435d5"
      },
      "execution_count": 13,
      "outputs": [
        {
          "output_type": "stream",
          "name": "stdout",
          "text": [
            "{'nome': 'Igor', 'idade': 24, 'curso': 'Fisíca', 'nota': '10'}\n"
          ]
        }
      ]
    },
    {
      "cell_type": "markdown",
      "source": [
        "#Exercício 4: Listas e Dicionários\n",
        "Crie uma lista de dicionários, onde cada dicionário representa um produto com as chaves \"nome\" e \"preço\".\n",
        "Adicione um novo produto à lista.\n",
        "Atualize o preço do primeiro produto na lista.\n",
        "Imprima a lista resultante."
      ],
      "metadata": {
        "id": "Q2bjHLH15dnf"
      }
    },
    {
      "cell_type": "code",
      "source": [
        "# seu código aqui...\n",
        "\n",
        "lista = [{\"Produto\": \"Morango do Amor\", \"Preço\": 20.00, \"Quantidade\": 5}]\n",
        "lista.append({\"Produto\": \"Brigadeiro\", \"Preço\": 12.00, \"Quantidade\": 9})\n",
        "print(lista)"
      ],
      "metadata": {
        "colab": {
          "base_uri": "https://localhost:8080/"
        },
        "id": "ESIp8PpM6Ft0",
        "outputId": "46d8bcb4-5255-4c04-c167-79b7cd6419ee"
      },
      "execution_count": 14,
      "outputs": [
        {
          "output_type": "stream",
          "name": "stdout",
          "text": [
            "[{'Produto': 'Morango do Amor', 'Preço': 20.0, 'Quantidade': 5}, {'Produto': 'Brigadeiro', 'Preço': 12.0, 'Quantidade': 9}]\n"
          ]
        }
      ]
    },
    {
      "cell_type": "markdown",
      "source": [
        "#Exercício 5: Analisando uma Lista de Tuplas\n",
        "Crie uma lista de tuplas, onde cada tupla contém um par (nome, idade).\n",
        "Encontre e imprima o nome da pessoa mais velha.\n",
        "Encontre e imprima a idade média das pessoas."
      ],
      "metadata": {
        "id": "FNsc_tjz5u9g"
      }
    },
    {
      "cell_type": "code",
      "source": [
        "pessoas = [\n",
        "    (\"Ana\", 25),\n",
        "    (\"Bruno\", 32),\n",
        "    (\"Carla\", 28),\n",
        "    (\"Diego\", 40),\n",
        "]\n",
        "\n",
        "maisvelho = 0\n",
        "nomemaisvelho = \"\"\n",
        "\n",
        "if(pessoas [0] [1])> maisvelho:\n",
        "  maisvelho = pessoas [0] [1]\n",
        "  nomemaisvelho = pessoas [0] [0]\n",
        "\n",
        "if (pessoas [1][1])> maisvelho:\n",
        "  maisvelho = pessoas [1] [1]\n",
        "  nomemaisvelho = pessoas [1] [0]\n",
        "\n",
        "if (pessoas [2][1])> maisvelho:\n",
        "  maisvelho = pessoas [2] [1]\n",
        "  nomemaisvelho = pessoas [2] [0]\n",
        "\n",
        "if (pessoas [3][1])> maisvelho:\n",
        "  maisvelho = pessoas [3] [1]\n",
        "  nomemaisvelho = pessoas [3] [0]\n",
        "\n",
        "media= pessoas [0][1]+ pessoas [1] [1] + pessoas [2][1] + pessoas [3][1]\n",
        "media= media /len (pessoas)\n",
        "\n",
        "print(\"A pessoa mais velha é\", nomemaisvelho, \"com a idade de:\", maisvelho,\"anos!\" )\n",
        "print(\"A média é de:\", media)"
      ],
      "metadata": {
        "colab": {
          "base_uri": "https://localhost:8080/"
        },
        "id": "ggpC0eCS3wxK",
        "outputId": "9daa78f9-04b8-4279-b9bc-817f360ed027"
      },
      "execution_count": 15,
      "outputs": [
        {
          "output_type": "stream",
          "name": "stdout",
          "text": [
            "A pessoa mais velha é Diego com a idade de: 40 anos!\n",
            "A média é de: 31.25\n"
          ]
        }
      ]
    }
  ]
}