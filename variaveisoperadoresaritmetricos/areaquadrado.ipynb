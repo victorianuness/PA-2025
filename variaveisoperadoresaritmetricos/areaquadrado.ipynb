{
  "nbformat": 4,
  "nbformat_minor": 0,
  "metadata": {
    "colab": {
      "provenance": [],
      "authorship_tag": "ABX9TyP74wE7iIOpfkMRX4MSHVWz",
      "include_colab_link": true
    },
    "kernelspec": {
      "name": "python3",
      "display_name": "Python 3"
    },
    "language_info": {
      "name": "python"
    }
  },
  "cells": [
    {
      "cell_type": "markdown",
      "metadata": {
        "id": "view-in-github",
        "colab_type": "text"
      },
      "source": [
        "<a href=\"https://colab.research.google.com/github/victorianuness/PA-2025/blob/main/variaveisoperadoresaritmetricos/areaquadrado.ipynb\" target=\"_parent\"><img src=\"https://colab.research.google.com/assets/colab-badge.svg\" alt=\"Open In Colab\"/></a>"
      ]
    },
    {
      "cell_type": "code",
      "execution_count": null,
      "metadata": {
        "id": "ieE121a0VIjw"
      },
      "outputs": [],
      "source": [
        "aula = \"hello world\"\n"
      ]
    },
    {
      "cell_type": "code",
      "source": [
        "print (aula)"
      ],
      "metadata": {
        "colab": {
          "base_uri": "https://localhost:8080/"
        },
        "id": "-w-PBICSVvWK",
        "outputId": "c369cdd4-8256-4163-f65b-a8adb77942e1"
      },
      "execution_count": null,
      "outputs": [
        {
          "output_type": "stream",
          "name": "stdout",
          "text": [
            "hello world\n"
          ]
        }
      ]
    },
    {
      "cell_type": "markdown",
      "source": [
        "#fazendo meu primero código"
      ],
      "metadata": {
        "id": "uteiMWyVXWJk"
      }
    },
    {
      "cell_type": "code",
      "source": [
        "#entrada\n",
        "lado = 4\n"
      ],
      "metadata": {
        "id": "Rjj7PliOWWfJ"
      },
      "execution_count": 5,
      "outputs": []
    },
    {
      "cell_type": "code",
      "source": [
        "#processamento\n",
        "area = lado * lado"
      ],
      "metadata": {
        "id": "zDkzCH2fYA-W"
      },
      "execution_count": 6,
      "outputs": []
    },
    {
      "cell_type": "code",
      "source": [
        "#saida\n",
        "print(\"A área do quadrado é\",area)"
      ],
      "metadata": {
        "colab": {
          "base_uri": "https://localhost:8080/"
        },
        "id": "MS6N6_YBYrVj",
        "outputId": "0f4af8ab-c84c-4bc1-c9fa-bb5dbd579f6c"
      },
      "execution_count": null,
      "outputs": [
        {
          "output_type": "stream",
          "name": "stdout",
          "text": [
            "A área do quadrado é 16\n"
          ]
        }
      ]
    },
    {
      "cell_type": "code",
      "source": [],
      "metadata": {
        "id": "TLM3Foo0YP0T"
      },
      "execution_count": null,
      "outputs": []
    }
  ]
}