{
  "nbformat": 4,
  "nbformat_minor": 0,
  "metadata": {
    "colab": {
      "provenance": [],
      "authorship_tag": "ABX9TyMbxjITgCtyM5ZQ4SIW2KNv",
      "include_colab_link": true
    },
    "kernelspec": {
      "name": "python3",
      "display_name": "Python 3"
    },
    "language_info": {
      "name": "python"
    }
  },
  "cells": [
    {
      "cell_type": "markdown",
      "metadata": {
        "id": "view-in-github",
        "colab_type": "text"
      },
      "source": [
        "<a href=\"https://colab.research.google.com/github/victorianuness/PA-2025/blob/main/variaveisoperadoresaritmetricos/variaveiseconstantes.ipynb\" target=\"_parent\"><img src=\"https://colab.research.google.com/assets/colab-badge.svg\" alt=\"Open In Colab\"/></a>"
      ]
    },
    {
      "cell_type": "markdown",
      "source": [
        "# variáveis e constantes"
      ],
      "metadata": {
        "id": "Nq4ZGw0KgRHS"
      }
    },
    {
      "cell_type": "code",
      "execution_count": 1,
      "metadata": {
        "id": "MBSjplTuf834"
      },
      "outputs": [],
      "source": [
        "idade = 15\n",
        "altura = 1.53\n",
        "nome = \"Victoria Américo\"\n",
        "vai = True"
      ]
    },
    {
      "cell_type": "code",
      "source": [
        "nomes = [\" Victoria\", \"juliana\", \"Cintia\"]\n",
        "nomes2 = (\"Victoria\", \"juliana\", \"Cintia\", \"mariana\")\n",
        "tudo = {nome:\"Cintia pinho\",idade: 42, altura:1.52,vai: True}"
      ],
      "metadata": {
        "id": "YW98bJ7YiY4U"
      },
      "execution_count": 2,
      "outputs": []
    },
    {
      "cell_type": "code",
      "source": [
        "print(nome)\n",
        "print(nomes)\n",
        "print(nomes2)\n",
        "print(tudo)"
      ],
      "metadata": {
        "id": "bwE3Q6QGmu2b",
        "colab": {
          "base_uri": "https://localhost:8080/"
        },
        "outputId": "4a03f09c-d381-4147-a187-0ab9e89c3361"
      },
      "execution_count": 3,
      "outputs": [
        {
          "output_type": "stream",
          "name": "stdout",
          "text": [
            "Victoria Américo\n",
            "[' Victoria', 'juliana', 'Cintia']\n",
            "('Victoria', 'juliana', 'Cintia', 'mariana')\n",
            "{'Victoria Américo': 'Cintia pinho', 15: 42, 1.53: 1.52, True: True}\n"
          ]
        }
      ]
    },
    {
      "cell_type": "code",
      "source": [
        "print(type(nome))\n",
        "print(type(nomes))\n",
        "print(type(nomes2))\n",
        "print(type(idade))\n",
        "print(type(altura))\n",
        "print(type(vai))\n",
        "print(type(tudo))"
      ],
      "metadata": {
        "colab": {
          "base_uri": "https://localhost:8080/"
        },
        "id": "3JcJud9BjLqo",
        "outputId": "5fa6e8ce-9a67-46ba-8a51-fcf3fedac8c3"
      },
      "execution_count": 4,
      "outputs": [
        {
          "output_type": "stream",
          "name": "stdout",
          "text": [
            "<class 'str'>\n",
            "<class 'list'>\n",
            "<class 'tuple'>\n",
            "<class 'int'>\n",
            "<class 'float'>\n",
            "<class 'bool'>\n",
            "<class 'dict'>\n"
          ]
        }
      ]
    },
    {
      "cell_type": "code",
      "source": [
        "print(\"O nome dela é:\", nome, \"sua idade é:\" ,idade, \",ela tem\", altura, \"metros\" )"
      ],
      "metadata": {
        "colab": {
          "base_uri": "https://localhost:8080/"
        },
        "id": "14nTtfOApOE4",
        "outputId": "6dc90eac-a298-48f4-ffdf-1baa293dd30e"
      },
      "execution_count": 5,
      "outputs": [
        {
          "output_type": "stream",
          "name": "stdout",
          "text": [
            "O nome dela é: Victoria Américo sua idade é: 15 ,ela tem 1.53 metros\n"
          ]
        }
      ]
    },
    {
      "cell_type": "code",
      "source": [
        "nome = \"victoria\"\n",
        "idade = 15\n",
        "print(f\"Nome: {nome}, idade: {idade}\")"
      ],
      "metadata": {
        "colab": {
          "base_uri": "https://localhost:8080/"
        },
        "id": "wBgSu7e2sY1K",
        "outputId": "2784869d-4494-49da-cb98-4fbdf1e3bb05"
      },
      "execution_count": 6,
      "outputs": [
        {
          "output_type": "stream",
          "name": "stdout",
          "text": [
            "Nome: victoria, idade: 15\n"
          ]
        }
      ]
    },
    {
      "cell_type": "markdown",
      "source": [
        "# área do círculo"
      ],
      "metadata": {
        "id": "55hLLQQUvcTa"
      }
    },
    {
      "cell_type": "code",
      "source": [
        "PI = 3.14159\n",
        "raio =  float(input(\"Digite o valor do raio do círculo: \"))"
      ],
      "metadata": {
        "colab": {
          "base_uri": "https://localhost:8080/"
        },
        "id": "AC7d2RuYvbSl",
        "outputId": "d9121a9a-e73b-4df2-a3db-c5cbf80a3dc2"
      },
      "execution_count": 7,
      "outputs": [
        {
          "name": "stdout",
          "output_type": "stream",
          "text": [
            "Digite o valor do raio do círculo: 5\n"
          ]
        }
      ]
    },
    {
      "cell_type": "code",
      "source": [
        "areacir = PI * (raio**2)"
      ],
      "metadata": {
        "id": "LV2mB3B6wCy-"
      },
      "execution_count": 8,
      "outputs": []
    },
    {
      "cell_type": "code",
      "source": [
        "print(f\"A área do círculo é {areacir}\")"
      ],
      "metadata": {
        "colab": {
          "base_uri": "https://localhost:8080/"
        },
        "id": "GrUbtQ2vxPrZ",
        "outputId": "534a0232-1002-46cc-ff93-4a85ef51b6f1"
      },
      "execution_count": 9,
      "outputs": [
        {
          "output_type": "stream",
          "name": "stdout",
          "text": [
            "A área do círculo é 78.53975\n"
          ]
        }
      ]
    },
    {
      "cell_type": "markdown",
      "source": [
        "# área do quadrado"
      ],
      "metadata": {
        "id": "RHabJV22zv70"
      }
    },
    {
      "cell_type": "code",
      "source": [
        "lado = float(input(\"Digite o lado do quadrado: \"))"
      ],
      "metadata": {
        "colab": {
          "base_uri": "https://localhost:8080/"
        },
        "id": "P3Wu0fbEz3P1",
        "outputId": "3feb4adf-c5ca-4335-d1e4-93971e8062fe"
      },
      "execution_count": 24,
      "outputs": [
        {
          "name": "stdout",
          "output_type": "stream",
          "text": [
            "Digite o lado do quadrado: 24\n"
          ]
        }
      ]
    },
    {
      "cell_type": "code",
      "source": [
        "areaqua = lado **2"
      ],
      "metadata": {
        "id": "En0DfVPL0iqu"
      },
      "execution_count": 25,
      "outputs": []
    },
    {
      "cell_type": "code",
      "source": [
        " print(f\"A área do quadrado é:{areaqua}\")"
      ],
      "metadata": {
        "colab": {
          "base_uri": "https://localhost:8080/"
        },
        "id": "dQqTWm220-jO",
        "outputId": "74bf7a50-cb4d-42fe-d5e0-9f9665e458f0"
      },
      "execution_count": 26,
      "outputs": [
        {
          "output_type": "stream",
          "name": "stdout",
          "text": [
            "A área do quadrado é:576.0\n"
          ]
        }
      ]
    },
    {
      "cell_type": "markdown",
      "source": [
        "# Exercícos"
      ],
      "metadata": {
        "id": "QQPVkQkOpzjc"
      }
    },
    {
      "cell_type": "markdown",
      "source": [
        "## Exercícios para aplicar uso de variáveis e constantes\n",
        "\n",
        "Exercício 1 - Área do Retângulo\n",
        "\n",
        "Crie um programa que calcule a área de um retângulo usando uma constante para representar a base.\n",
        "\n",
        " Fórmula: A = base × altura"
      ],
      "metadata": {
        "id": "WVmM5UHip4W6"
      }
    },
    {
      "cell_type": "code",
      "source": [
        "base = float(input(\"Digite a base do retângulo \"))"
      ],
      "metadata": {
        "colab": {
          "base_uri": "https://localhost:8080/"
        },
        "id": "dMM1Q3mVqEa9",
        "outputId": "f4cf3e2a-998f-4d2c-9fb8-e8e5724bfb5b"
      },
      "execution_count": 43,
      "outputs": [
        {
          "name": "stdout",
          "output_type": "stream",
          "text": [
            "Digite a base do retângulo 5\n"
          ]
        }
      ]
    },
    {
      "cell_type": "code",
      "source": [
        "altura = float(input(\"Digite a altura do retângulo \"))"
      ],
      "metadata": {
        "colab": {
          "base_uri": "https://localhost:8080/"
        },
        "id": "SEUZMZgossLh",
        "outputId": "55e54630-7584-4af0-b371-97d5f6275de3"
      },
      "execution_count": 44,
      "outputs": [
        {
          "name": "stdout",
          "output_type": "stream",
          "text": [
            "Digite a altura do retângulo 12\n"
          ]
        }
      ]
    },
    {
      "cell_type": "code",
      "source": [
        "arearet = base*altura"
      ],
      "metadata": {
        "id": "7yvb_gLir4st"
      },
      "execution_count": 45,
      "outputs": []
    },
    {
      "cell_type": "code",
      "source": [
        "print(f\"A área do retângulo é {arearet}\")"
      ],
      "metadata": {
        "colab": {
          "base_uri": "https://localhost:8080/"
        },
        "id": "OKs8UlKusGXG",
        "outputId": "1ce84228-4a40-4a5f-ee3a-dd62d0c61f3a"
      },
      "execution_count": 46,
      "outputs": [
        {
          "output_type": "stream",
          "name": "stdout",
          "text": [
            "A área do retângulo é 60.0\n"
          ]
        }
      ]
    },
    {
      "cell_type": "markdown",
      "source": [
        "## Exercício 2 – Perímetro do Círculo\n",
        "\n",
        "Crie um programa que calcule o perímetro de um círculo usando a constante π.\n",
        "\n",
        " Fórmula: P = 2 × π × r\n",
        "\n"
      ],
      "metadata": {
        "id": "5m3V25bvtDf_"
      }
    },
    {
      "cell_type": "code",
      "source": [
        "PI = 3.14159"
      ],
      "metadata": {
        "id": "T8LJa8tmtJIH"
      },
      "execution_count": 52,
      "outputs": []
    },
    {
      "cell_type": "code",
      "source": [
        "raio = float(input(\"Digite o número do raio \"))"
      ],
      "metadata": {
        "colab": {
          "base_uri": "https://localhost:8080/"
        },
        "id": "xvjvOzqVtldE",
        "outputId": "bd74aa97-0dc8-4678-ae6d-a201249ef22d"
      },
      "execution_count": 53,
      "outputs": [
        {
          "name": "stdout",
          "output_type": "stream",
          "text": [
            "Digite o número do raio 90\n"
          ]
        }
      ]
    },
    {
      "cell_type": "code",
      "source": [
        "perimetrocir = 2*PI*raio"
      ],
      "metadata": {
        "id": "39-SUZjwt-Is"
      },
      "execution_count": 54,
      "outputs": []
    },
    {
      "cell_type": "code",
      "source": [
        " print(f\"O perímetro do círculo é {perimetrocir:.2f}\")"
      ],
      "metadata": {
        "colab": {
          "base_uri": "https://localhost:8080/"
        },
        "id": "Ykla27dXuY54",
        "outputId": "395c8953-eb88-4fc4-dddf-7c035341dbee"
      },
      "execution_count": 55,
      "outputs": [
        {
          "output_type": "stream",
          "name": "stdout",
          "text": [
            "O perímetro do círculo é 565.49\n"
          ]
        }
      ]
    },
    {
      "cell_type": "markdown",
      "source": [
        "## Exercício 3 – Conversão de Temperatura\n",
        "\n",
        "Crie um programa que converta uma temperatura de Fahrenheit para Celsius.\n",
        "\n",
        " Fórmula: C = (F - 32) × 5/9"
      ],
      "metadata": {
        "id": "VjENAnIcu7GV"
      }
    },
    {
      "cell_type": "code",
      "source": [
        "F = float(input(\"Digite a temperatura em Fahrenheit \"))"
      ],
      "metadata": {
        "colab": {
          "base_uri": "https://localhost:8080/"
        },
        "id": "qoa7PLynu6Ee",
        "outputId": "6c8861bc-fccb-4821-ec6d-9ffb36ccc01d"
      },
      "execution_count": 61,
      "outputs": [
        {
          "name": "stdout",
          "output_type": "stream",
          "text": [
            "Digite a temperatura em Fahrenheit 90\n"
          ]
        }
      ]
    },
    {
      "cell_type": "code",
      "source": [
        "temp = (F-32)*5/9"
      ],
      "metadata": {
        "id": "Qp8cTqOjvjCK"
      },
      "execution_count": 62,
      "outputs": []
    },
    {
      "cell_type": "code",
      "source": [
        "print(f\"A temperatura em Celsius é {temp:.2f}\")"
      ],
      "metadata": {
        "colab": {
          "base_uri": "https://localhost:8080/"
        },
        "id": "sxLyVii6wItc",
        "outputId": "bab68360-cd3d-4fff-8feb-65cbcef95853"
      },
      "execution_count": 63,
      "outputs": [
        {
          "output_type": "stream",
          "name": "stdout",
          "text": [
            "A temperatura em Celsius é 32.22\n"
          ]
        }
      ]
    },
    {
      "cell_type": "markdown",
      "source": [
        "## Exercício 4 – Cálculo do IMC\n",
        "\n",
        "Crie um programa que calcule o Índice de Massa Corporal (IMC) de uma pessoa.\n",
        "\n",
        " Fórmula: IMC = peso / altura²"
      ],
      "metadata": {
        "id": "NFOe9FD9w5Lv"
      }
    },
    {
      "cell_type": "code",
      "source": [
        "peso = float(input(\"Digite seu peso \"))"
      ],
      "metadata": {
        "colab": {
          "base_uri": "https://localhost:8080/"
        },
        "id": "F8gECgarw44F",
        "outputId": "b3d769c8-4d96-458b-edfb-b6f5c74cfed5"
      },
      "execution_count": 74,
      "outputs": [
        {
          "name": "stdout",
          "output_type": "stream",
          "text": [
            "Digite seu peso 51\n"
          ]
        }
      ]
    },
    {
      "cell_type": "code",
      "source": [
        "altura = float(input(\"Digite sua altura \"))"
      ],
      "metadata": {
        "colab": {
          "base_uri": "https://localhost:8080/"
        },
        "id": "hX-HaGuDxSBk",
        "outputId": "a292fc3d-524c-461d-c6da-b474e56f61cd"
      },
      "execution_count": 75,
      "outputs": [
        {
          "name": "stdout",
          "output_type": "stream",
          "text": [
            "Digite sua altura 1.56\n"
          ]
        }
      ]
    },
    {
      "cell_type": "code",
      "source": [
        "imc = peso/altura**2"
      ],
      "metadata": {
        "id": "VyFZVg_5xpsE"
      },
      "execution_count": 76,
      "outputs": []
    },
    {
      "cell_type": "code",
      "source": [
        "print(f\"Seu é IMC é {imc}\")"
      ],
      "metadata": {
        "colab": {
          "base_uri": "https://localhost:8080/"
        },
        "id": "xj_8b4w5xy6t",
        "outputId": "d575c5c7-1d8c-4341-fe29-16265ac2b215"
      },
      "execution_count": 77,
      "outputs": [
        {
          "output_type": "stream",
          "name": "stdout",
          "text": [
            "Seu é IMC é 20.956607495069033\n"
          ]
        }
      ]
    }
  ]
}