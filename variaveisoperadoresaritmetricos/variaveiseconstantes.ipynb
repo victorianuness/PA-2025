{
  "nbformat": 4,
  "nbformat_minor": 0,
  "metadata": {
    "colab": {
      "provenance": [],
      "authorship_tag": "ABX9TyNvaj1OhxSDrXmv+/on7x9g",
      "include_colab_link": true
    },
    "kernelspec": {
      "name": "python3",
      "display_name": "Python 3"
    },
    "language_info": {
      "name": "python"
    }
  },
  "cells": [
    {
      "cell_type": "markdown",
      "metadata": {
        "id": "view-in-github",
        "colab_type": "text"
      },
      "source": [
        "<a href=\"https://colab.research.google.com/github/victorianuness/PA-2025/blob/main/variaveisoperadoresaritmetricos/variaveiseconstantes.ipynb\" target=\"_parent\"><img src=\"https://colab.research.google.com/assets/colab-badge.svg\" alt=\"Open In Colab\"/></a>"
      ]
    },
    {
      "cell_type": "markdown",
      "source": [
        "# variáveis e constantes"
      ],
      "metadata": {
        "id": "Nq4ZGw0KgRHS"
      }
    },
    {
      "cell_type": "code",
      "execution_count": 1,
      "metadata": {
        "id": "MBSjplTuf834"
      },
      "outputs": [],
      "source": [
        "idade = 15\n",
        "altura = 1.53\n",
        "nome = \"Victoria Américo\"\n",
        "vai = True"
      ]
    },
    {
      "cell_type": "code",
      "source": [
        "nomes = [\" Victoria\", \"juliana\", \"Cintia\"]\n",
        "nomes2 = (\"Victoria\", \"juliana\", \"Cintia\", \"mariana\")\n",
        "tudo = {nome:\"Cintia pinho\",idade: 42, altura:1.52,vai: True}"
      ],
      "metadata": {
        "id": "YW98bJ7YiY4U"
      },
      "execution_count": 2,
      "outputs": []
    },
    {
      "cell_type": "code",
      "source": [
        "print(nome)\n",
        "print(nomes)\n",
        "print(nomes2)\n",
        "print(tudo)"
      ],
      "metadata": {
        "id": "bwE3Q6QGmu2b",
        "colab": {
          "base_uri": "https://localhost:8080/"
        },
        "outputId": "8644730f-a2dd-42ac-ebb9-dd4acc277d3f"
      },
      "execution_count": 3,
      "outputs": [
        {
          "output_type": "stream",
          "name": "stdout",
          "text": [
            "Victoria Américo\n",
            "[' Victoria', 'juliana', 'Cintia']\n",
            "('Victoria', 'juliana', 'Cintia', 'mariana')\n",
            "{'Victoria Américo': 'Cintia pinho', 15: 42, 1.53: 1.52, True: True}\n"
          ]
        }
      ]
    },
    {
      "cell_type": "code",
      "source": [
        "print(type(nome))\n",
        "print(type(nomes))\n",
        "print(type(nomes2))\n",
        "print(type(idade))\n",
        "print(type(altura))\n",
        "print(type(vai))\n",
        "print(type(tudo))"
      ],
      "metadata": {
        "colab": {
          "base_uri": "https://localhost:8080/"
        },
        "id": "3JcJud9BjLqo",
        "outputId": "7123c207-3af8-4bd0-b7cd-d6e77d9b2a2e"
      },
      "execution_count": 4,
      "outputs": [
        {
          "output_type": "stream",
          "name": "stdout",
          "text": [
            "<class 'str'>\n",
            "<class 'list'>\n",
            "<class 'tuple'>\n",
            "<class 'int'>\n",
            "<class 'float'>\n",
            "<class 'bool'>\n",
            "<class 'dict'>\n"
          ]
        }
      ]
    },
    {
      "cell_type": "code",
      "source": [
        "print(\"O nome dela é:\", nome, \"sua idade é:\" ,idade, \",ela tem\", altura, \"metros\" )"
      ],
      "metadata": {
        "colab": {
          "base_uri": "https://localhost:8080/"
        },
        "id": "14nTtfOApOE4",
        "outputId": "da96b7e0-ef1c-4907-f3db-1d9cfdb9bdca"
      },
      "execution_count": 5,
      "outputs": [
        {
          "output_type": "stream",
          "name": "stdout",
          "text": [
            "O nome dela é: Victoria Américo sua idade é: 15 ,ela tem 1.53 metros\n"
          ]
        }
      ]
    },
    {
      "cell_type": "code",
      "source": [
        "nome = \"victoria\"\n",
        "idade = 15\n",
        "print(f\"Nome: {nome}, idade: {idade}\")"
      ],
      "metadata": {
        "colab": {
          "base_uri": "https://localhost:8080/"
        },
        "id": "wBgSu7e2sY1K",
        "outputId": "d6a3fc18-c46a-406a-88d0-2ba8f486bb33"
      },
      "execution_count": 6,
      "outputs": [
        {
          "output_type": "stream",
          "name": "stdout",
          "text": [
            "Nome: victoria, idade: 15\n"
          ]
        }
      ]
    },
    {
      "cell_type": "markdown",
      "source": [
        "# área do círculo"
      ],
      "metadata": {
        "id": "55hLLQQUvcTa"
      }
    },
    {
      "cell_type": "code",
      "source": [
        "PI = 3.14159\n",
        "raio =  float(input(\"Digite o valor do raio do círculo: \"))"
      ],
      "metadata": {
        "colab": {
          "base_uri": "https://localhost:8080/"
        },
        "id": "AC7d2RuYvbSl",
        "outputId": "beb09c84-c5cd-49ad-8b91-901703e67503"
      },
      "execution_count": 7,
      "outputs": [
        {
          "name": "stdout",
          "output_type": "stream",
          "text": [
            "Digite o valor do raio do círculo: 4\n"
          ]
        }
      ]
    },
    {
      "cell_type": "code",
      "source": [
        "areacir = PI * (raio**2)"
      ],
      "metadata": {
        "id": "LV2mB3B6wCy-"
      },
      "execution_count": 13,
      "outputs": []
    },
    {
      "cell_type": "code",
      "source": [
        "print(f\"A área do círculo é {areacir}\")"
      ],
      "metadata": {
        "colab": {
          "base_uri": "https://localhost:8080/"
        },
        "id": "GrUbtQ2vxPrZ",
        "outputId": "40e11c64-d990-4e5f-f64c-8683f48de061"
      },
      "execution_count": 14,
      "outputs": [
        {
          "output_type": "stream",
          "name": "stdout",
          "text": [
            "A área do círculo é 50.26544\n"
          ]
        }
      ]
    },
    {
      "cell_type": "markdown",
      "source": [
        "# área do quadrado"
      ],
      "metadata": {
        "id": "RHabJV22zv70"
      }
    },
    {
      "cell_type": "code",
      "source": [
        "lado = 4\n",
        "area = float(input(\"Digite a área do quadrado: \"))"
      ],
      "metadata": {
        "colab": {
          "base_uri": "https://localhost:8080/"
        },
        "id": "P3Wu0fbEz3P1",
        "outputId": "754553a9-e4d3-4e24-9457-06aff09c89b9"
      },
      "execution_count": 10,
      "outputs": [
        {
          "name": "stdout",
          "output_type": "stream",
          "text": [
            "Digite a área do quadrado: 4\n"
          ]
        }
      ]
    },
    {
      "cell_type": "code",
      "source": [
        "areaqua = (lado **2)"
      ],
      "metadata": {
        "id": "En0DfVPL0iqu"
      },
      "execution_count": 11,
      "outputs": []
    },
    {
      "cell_type": "code",
      "source": [
        "print(f\"A área do quadrado é {areaqua}\")"
      ],
      "metadata": {
        "colab": {
          "base_uri": "https://localhost:8080/"
        },
        "id": "dQqTWm220-jO",
        "outputId": "596ff6f0-e995-46fa-9962-31d001b69cce"
      },
      "execution_count": 12,
      "outputs": [
        {
          "output_type": "stream",
          "name": "stdout",
          "text": [
            "A área do quadrado é 16\n"
          ]
        }
      ]
    }
  ]
}