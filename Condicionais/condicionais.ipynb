{
  "nbformat": 4,
  "nbformat_minor": 0,
  "metadata": {
    "colab": {
      "provenance": [],
      "authorship_tag": "ABX9TyNK1ecvyIUvjtnvdYoA0aAI",
      "include_colab_link": true
    },
    "kernelspec": {
      "name": "python3",
      "display_name": "Python 3"
    },
    "language_info": {
      "name": "python"
    }
  },
  "cells": [
    {
      "cell_type": "markdown",
      "metadata": {
        "id": "view-in-github",
        "colab_type": "text"
      },
      "source": [
        "<a href=\"https://colab.research.google.com/github/victorianuness/PA-2025/blob/main/Condicionais/condicionais.ipynb\" target=\"_parent\"><img src=\"https://colab.research.google.com/assets/colab-badge.svg\" alt=\"Open In Colab\"/></a>"
      ]
    },
    {
      "cell_type": "markdown",
      "source": [
        "# Tipos de condicionais\n",
        "Condicionais Simples: Possui apenas 2 possibilidades (True or False)"
      ],
      "metadata": {
        "id": "QwvqGuiZDIGd"
      }
    },
    {
      "cell_type": "code",
      "execution_count": null,
      "metadata": {
        "colab": {
          "base_uri": "https://localhost:8080/"
        },
        "id": "LIXoCzdJC0z-",
        "outputId": "b1a326ca-5f28-4be7-f58d-580e0b34c242"
      },
      "outputs": [
        {
          "output_type": "stream",
          "name": "stdout",
          "text": [
            "Digite a nota 1: 9\n",
            "Nota computada\n",
            "Digite a nota 2: 9\n",
            "Nota Computada\n",
            "Digite a nota 3: 9\n",
            "Nota Computada\n",
            "9.0\n",
            " Você Foi aprovado\n"
          ]
        }
      ],
      "source": [
        "#entrada\n",
        "nota=int(input(\"Digite a nota 1: \"))\n",
        "if (nota>= 0 and nota <= 10 ):\n",
        " print(\"Nota computada\")\n",
        " n1=nota\n",
        "else:\n",
        "  print(\"Essa nota não foi registrada pois não estava entre 0 e 10!\")\n",
        "  print(\"Execute novamente o programa\")\n",
        "\n",
        "n2=int(input(\"Digite a nota 2: \"))\n",
        "if (nota>= 0 and nota <= 10 ):\n",
        " print(\"Nota Computada\")\n",
        " n3=nota\n",
        "else:\n",
        "  print(\"Essa nota não foi registrada pois não estava entre 0 e 10!\")\n",
        "  print(\"Execute novamente o programa\")\n",
        "\n",
        "n3=int(input(\"Digite a nota 3: \"))\n",
        "if (nota>= 0 and nota <= 10 ):\n",
        " print(\"Nota Computada\")\n",
        " n3=nota\n",
        "else:\n",
        "  print(\"Essa nota não foi registrada pois não estava entre 0 e 10!\")\n",
        "  print(\"Execute novamente o programa\")\n",
        "\n",
        "media= (n1+n2+n3)/3\n",
        "print(media)\n",
        "\n",
        "if (media >= 7):\n",
        " print(\" Você Foi aprovado\")\n",
        "else:\n",
        "  print(\"Você foi reprovado\")\n"
      ]
    },
    {
      "cell_type": "markdown",
      "source": [
        "# Condicional composto\n",
        "possuem mais de 2 possibilidades"
      ],
      "metadata": {
        "id": "BIagQInTOOWl"
      }
    },
    {
      "cell_type": "code",
      "source": [
        "nota=int(input(\"Digite a nota 1: \"))\n",
        "if (nota>= 0 and nota <= 10 ):\n",
        " print(\"Nota computada\")\n",
        " n1=nota\n",
        "else:\n",
        "  print(\"Essa nota não foi registrada pois não estava entre 0 e 10!\")\n",
        "  print(\"Execute novamente o programa\")\n",
        "\n",
        "n2=int(input(\"Digite a nota 2: \"))\n",
        "if (nota>= 0 and nota <= 10 ):\n",
        " print(\"Nota Computada\")\n",
        " n3=nota\n",
        "else:\n",
        "  print(\"Essa nota não foi registrada pois não estava entre 0 e 10!\")\n",
        "  print(\"Execute novamente o programa\")\n",
        "\n",
        "n3=int(input(\"Digite a nota 3: \"))\n",
        "if (nota>= 0 and nota <= 10 ):\n",
        " print(\"Nota Computada\")\n",
        " n3=nota\n",
        "else:\n",
        "  print(\"Essa nota não foi registrada pois não estava entre 0 e 10!\")\n",
        "  print(\"Execute novamente o programa\")\n",
        "\n",
        "media= (n1+n2+n3)/3\n",
        "print(\"A média é de: \",media)"
      ],
      "metadata": {
        "colab": {
          "base_uri": "https://localhost:8080/"
        },
        "id": "FGTMiS60OaR1",
        "outputId": "3bb5a6e9-08cc-4e32-bbb7-4e60c158d76b"
      },
      "execution_count": null,
      "outputs": [
        {
          "output_type": "stream",
          "name": "stdout",
          "text": [
            "Digite a nota 1: 10\n",
            "Nota computada\n",
            "Digite a nota 2: 10\n",
            "Nota Computada\n",
            "Digite a nota 3: 10\n",
            "Nota Computada\n",
            "A média é de:  10.0\n"
          ]
        }
      ]
    },
    {
      "cell_type": "code",
      "source": [
        "if media <5:\n",
        "  print(\"Sua menção final é I\")\n",
        "elif (media>=5) and (media <6.5):\n",
        "  print(\"Sua menção final é R\")\n",
        "elif(media >= 6.5) and (nota <8.5):\n",
        "  print(\"Sua menção final é B\")\n",
        "else:\n",
        "  print(\"Sua função final é MB\")\n",
        "\n",
        "\n"
      ],
      "metadata": {
        "colab": {
          "base_uri": "https://localhost:8080/"
        },
        "id": "ulVL5AQcOtsJ",
        "outputId": "1ce39c14-8251-44d0-ccfc-c962d3519cde"
      },
      "execution_count": null,
      "outputs": [
        {
          "output_type": "stream",
          "name": "stdout",
          "text": [
            "Sua função final é MB\n"
          ]
        }
      ]
    },
    {
      "cell_type": "code",
      "source": [
        "usuariocerto=\"cintia\"\n",
        "senhacerta=\"12345\"\n",
        "usuario=input(\"Digite seu usuário: \")\n",
        "senha=input(\"Digite sua senha: \")\n",
        "if (usuario==usuariocerto):\n",
        "  if(senha==senhacerta):\n",
        "    print(\"Usuario logado\")\n",
        "  else:\n",
        "    print(\"Senha inválida\")\n",
        "else:\n",
        " print(\"Usuário inválido\")\n"
      ],
      "metadata": {
        "colab": {
          "base_uri": "https://localhost:8080/"
        },
        "id": "Ct5fwNm1R27m",
        "outputId": "61ec15cd-3abb-4b29-ad15-ed3f0e42c04c"
      },
      "execution_count": null,
      "outputs": [
        {
          "output_type": "stream",
          "name": "stdout",
          "text": [
            "Digite seu usuário: cintia\n",
            "Digite sua senha: 12345\n",
            "Usuario logado\n"
          ]
        }
      ]
    },
    {
      "cell_type": "markdown",
      "source": [
        "# Condicional aninhado\n",
        "quando o segundo if é executado, quando o primeiro for True"
      ],
      "metadata": {
        "id": "TwSfK6v8UgPH"
      }
    },
    {
      "cell_type": "markdown",
      "source": [
        "# Lista de exercícios"
      ],
      "metadata": {
        "id": "P9x7ghigXqwH"
      }
    },
    {
      "cell_type": "markdown",
      "source": [
        "1) Faça um programa que solicite ao usuário três valores (lados de um triangulo), verifique se é um triangulo e informe se ele é isóceles, equilatero ou escaleno."
      ],
      "metadata": {
        "id": "-i5jdfud7Zh-"
      }
    },
    {
      "cell_type": "code",
      "source": [
        "l1=int(input(\"Digite o valor do lado 1: \"))\n",
        "l2=int(input(\"Digite o valor do lado 2: \"))\n",
        "l3=int(input(\"Digite o valor do lado 3: \"))\n",
        "triangulo= (l1+l2+l3>=l3) and (l1+l2+l3>=l2) and (l1+l2+l3>=l1)\n",
        "if triangulo:\n",
        "  if l1==l2==l3:\n",
        "   print(\"É um triângulo equilátero\")\n",
        "  elif l1 != l2 and l1 != l3 and l2 != l3:\n",
        "   print(\"É um triangulo escaleno\")\n",
        "  else:\n",
        "     print(\"É um triangulo isósceles\")\n",
        "else:\n",
        " print(\"Os valores informados, não formam um triângulo\")"
      ],
      "metadata": {
        "id": "4RSVwxwKXv_O",
        "colab": {
          "base_uri": "https://localhost:8080/"
        },
        "outputId": "52234403-c3ef-4ab7-c193-8d88cda9d4f6"
      },
      "execution_count": null,
      "outputs": [
        {
          "output_type": "stream",
          "name": "stdout",
          "text": [
            "Digite o valor do lado 1: 12\n",
            "Digite o valor do lado 2: 13\n",
            "Digite o valor do lado 3: 14\n",
            "É um triangulo escaleno\n"
          ]
        }
      ]
    },
    {
      "cell_type": "markdown",
      "source": [
        "2)Peça para o usuário digitar um valor informe se ele é par ou impar"
      ],
      "metadata": {
        "id": "QQzezYVC7psQ"
      }
    },
    {
      "cell_type": "code",
      "source": [
        "num=int(input(\"Digite um valor: \"))\n",
        "resto=num%2\n",
        "if (resto==0):\n",
        " print(\"O número é par\")\n",
        "else:\n",
        " print(\"O número é impar\")"
      ],
      "metadata": {
        "colab": {
          "base_uri": "https://localhost:8080/"
        },
        "id": "PCexUuvEbXwc",
        "outputId": "db4b103a-afe9-4cf9-c462-dd4feb5cedf5"
      },
      "execution_count": null,
      "outputs": [
        {
          "output_type": "stream",
          "name": "stdout",
          "text": [
            "Digite um valor: 31\n",
            "O número é impar\n"
          ]
        }
      ]
    },
    {
      "cell_type": "markdown",
      "source": [
        "3) Faça um programa que solicite peso e altura, informe seu IMC. Ao final informe se ele está, abaixo do peso,peso ideal ou acima do peso. fórmula do IMC: (peso/altura^2)."
      ],
      "metadata": {
        "id": "V-Yeff_j7yO7"
      }
    },
    {
      "cell_type": "code",
      "source": [
        "peso= int(input(\"Digite o seu peso: \"))\n",
        "alt= float(input(\"Digite a sua altura: \"))\n",
        "imc= peso / alt**2\n",
        "print(f\"Seu imc é de: {imc:.2f}\")\n",
        "if imc:\n",
        "  if(imc<= 18.5):\n",
        "    print(\"Você está abaixo do peso\")\n",
        "  elif (imc >=18.5 and imc <=24.9):\n",
        "    print(\"Você está com o peso normal\")\n",
        "  elif (imc >= 25.0 and imc <=29.9):\n",
        "    print(\"Você está com sobrepeso\")\n",
        "  elif (imc >=30.0 and imc <= 34.9):\n",
        "     print(\"Você está com obesidade grau 1\")\n",
        "  elif(imc >=35.0 and imc <=39.9):\n",
        "   print(\"Você está com obesidade grau 2\")\n",
        "  else:\n",
        "    print(\"Você está com obesidade grau 3\")"
      ],
      "metadata": {
        "id": "NoYtUPS0dyRx",
        "colab": {
          "base_uri": "https://localhost:8080/"
        },
        "outputId": "1c52131c-5755-41cd-f047-d3ca4653e705"
      },
      "execution_count": null,
      "outputs": [
        {
          "output_type": "stream",
          "name": "stdout",
          "text": [
            "Digite o seu peso: 58\n",
            "Digite a sua altura: 1.59\n",
            "Seu imc é de: 22.94\n",
            "Você está com o peso normal\n"
          ]
        }
      ]
    },
    {
      "cell_type": "markdown",
      "source": [
        "4) Caixa Eletrônico com Login e Operações Bancárias\n",
        "\n",
        "Crie um programa que simule um caixa eletrônico. O programa deve:\n",
        "\n",
        "Solicitar ao usuário nome de usuário e senha para acessar a conta bancária (use valores fictícios para usuário e senha, por exemplo, \"cliente\" e \"1234\").\n",
        "\n",
        "Se o usuário ou a senha estiver incorreto, o programa deve bloquear o acesso e exibir a mensagem: \"Usuário ou senha incorretos. Tente novamente.\""
      ],
      "metadata": {
        "id": "CXOVn3HU8Esu"
      }
    },
    {
      "cell_type": "code",
      "source": [
        "usuariocerto=\"victoria\"\n",
        "senhacerta=\"2010\"\n",
        "usuario= input(\"Digite seu usuário: \")\n",
        "if (usuario==usuariocerto):\n",
        "  senha= input(\"Digite sua senha: \")\n",
        "  if(senha==senhacerta):\n",
        "    print(\"Usuário Logado!\")\n",
        "  else:\n",
        "    print(\"Senha inválida!Tente novamente\")\n",
        "else:\n",
        "  print(\"Usuário Inválido!Tente novamente\")"
      ],
      "metadata": {
        "colab": {
          "base_uri": "https://localhost:8080/"
        },
        "id": "SiRAHfXaP1cG",
        "outputId": "c4a0c193-6140-4655-c680-1106a6cce20a"
      },
      "execution_count": null,
      "outputs": [
        {
          "output_type": "stream",
          "name": "stdout",
          "text": [
            "Digite seu usuário: victoria\n",
            "Digite sua senha: 2010\n",
            "Usuário Logado!\n"
          ]
        }
      ]
    },
    {
      "cell_type": "markdown",
      "source": [
        "5) Exercício – Simulador de Saque e Depósito com Limite\n",
        "\n",
        "Sequência do exercício anterior\n",
        "\n",
        "Deverá ter os valores fixos de\n",
        "\n",
        "Exemplo:\n",
        "\n",
        "limite = 3000\n",
        "\n",
        "saldo = - 50.00\n",
        "\n",
        "Se o login for bem-sucedido, o programa deve exibir as opções de escolha para o usuário de saque, depósito ou ver saldo, e o usuário poderá escolher qual operação deseja realizar.\n",
        "\n",
        "Exemplo:\n",
        "\n",
        "Digite 1 para sacar\n",
        "\n",
        "Digite 2 para depositar\n",
        "\n",
        "Digite 3 para ver o saldo\n",
        "\n",
        "Porém ao final de cada operação de saque ou depósito, mostre como ficou o saldo do cliente no banco. Sempre mostranto saldo e o restante do limite do banco.\n",
        "\n",
        "Caso o usuário escolha sacar:\n",
        "\n",
        "Solicitar o valor que deseja sacar.\n",
        "\n",
        "Verificar se o saque pode ser realizado, considerando o saldo mais o limite disponível.\n",
        "\n",
        "Informar se o saque foi autorizado ou negado.\n",
        "\n",
        "Se autorizado, informar o saldo final e se ele é positivo ou negativo.\n",
        "\n",
        "Não esqueça de atualizar o saldo\n",
        "\n",
        "Informar qual o valor negativo que ele está caso esteja usando o limite do Banco.\n",
        "\n",
        "Caso o usuário escolha depositar:\n",
        "\n",
        "Solicitar o valor do depósito.\n",
        "\n",
        "Atualizar o saldo e informar o novo saldo final.\n",
        "\n",
        "Dica: Lembre-se de que o limite funciona como um \"empréstimo automático\", permitindo que o cliente saque além do saldo disponível."
      ],
      "metadata": {
        "id": "hYgWHtiB8NV7"
      }
    },
    {
      "cell_type": "code",
      "source": [
        "usuariocerto=\"vic\"\n",
        "senhacerta=\"2010\"\n",
        "limite=3000\n",
        "saldo=-50.00\n",
        "usuario= input(\"Digite seu usuário: \")\n",
        "if (usuario==usuariocerto):\n",
        "   senha= input(\"Digite sua senha: \")\n",
        "   if(senha==senhacerta):\n",
        "    print(\"Usuário Logado!\")\n",
        "    print(\"Escolha uma operação\")\n",
        "    print(\"Digite 1 para sacar\")\n",
        "    print(\"Digite 2 para depositar\")\n",
        "    print(\"Digite 3 para ver o saldo\")\n",
        "    operacao= float(input(\"Digite a operação: \"))\n",
        "\n",
        "    if operacao==1:\n",
        "     sacar= float(input(\"Digite o valor: \"))\n",
        "     if (saldo+limite >= sacar):\n",
        "      print(\"Saque autorizado!\")\n",
        "      saldoatual= saldo-sacar\n",
        "      if (saldoatual >=0 ):\n",
        "       print(f\"Seu Saldo final é de {saldoatual}\")\n",
        "      else:\n",
        "       print(f\"Você está devendo R${saldoatual} no limite! \")\n",
        "     else:\n",
        "      print(\"Saque Negado\")\n",
        "\n",
        "\n",
        "    elif operacao==2:\n",
        "     deposito=float(input(\"Digite o valor do depósito: \"))\n",
        "     saldo= saldo+deposito\n",
        "    print(f\"Seu saldo final é de {saldo:.2f}\")\n",
        "\n",
        "   elif operacao==3:\n",
        "    print(f\"Seu Saldo é de {saldo}\")\n",
        "   else:\n",
        "    print(\"Senha inválida!Tente novamente\")\n",
        "else:\n",
        "  print(\"Usuário Inválido!Tente novamente\")"
      ],
      "metadata": {
        "colab": {
          "base_uri": "https://localhost:8080/"
        },
        "id": "g6iFI-pRPvYO",
        "outputId": "62298f54-9612-423e-f7ea-dc62c2c0e09b"
      },
      "execution_count": null,
      "outputs": [
        {
          "output_type": "stream",
          "name": "stdout",
          "text": [
            "Digite seu usuário: vic\n",
            "Digite sua senha: 2010\n",
            "Usuário Logado!\n",
            "Escolha uma operação\n",
            "Digite 1 para sacar\n",
            "Digite 2 para depositar\n",
            "Digite 3 para ver o saldo\n",
            "Digite a operação: 2\n",
            "Digite o valor do depósito: 200\n",
            "Seu saldo final é de 150.00\n"
          ]
        }
      ]
    },
    {
      "cell_type": "markdown",
      "source": [
        "6) Faça um programa que solicite altura e idade do usuário, informe se ele pode ou nao competir.\n",
        "\n",
        "Regras: Para competir no campeonato de vôlei o usuário de ter pelo menos 1.75 de altura e 18 anos."
      ],
      "metadata": {
        "id": "cP246au-8dHX"
      }
    },
    {
      "cell_type": "code",
      "source": [
        "altura= float(input(\"Digite sua altura: \"))\n",
        "if(altura>=1.75):\n",
        "  print(\"Altura permitida!\")\n",
        "else:\n",
        "  print(\"Altura não permitida!\")\n",
        "idade=int(input(\"Digite sua idade: \"))\n",
        "if(idade>=18):\n",
        "  print(\"Idade Permitida!\")\n",
        "else:\n",
        "  print(\"Idade não permitida!\")\n",
        "if (altura >=1.75 and idade >= 18):\n",
        "  print(\"Poderá compertir!\")\n",
        "else:\n",
        "  print(\"Não poderá competir!\")"
      ],
      "metadata": {
        "id": "IN0hJzSy8iiO",
        "colab": {
          "base_uri": "https://localhost:8080/"
        },
        "outputId": "e450b3e5-e05f-424e-cd34-d7903d2142c3"
      },
      "execution_count": null,
      "outputs": [
        {
          "output_type": "stream",
          "name": "stdout",
          "text": [
            "Digite sua altura: 1.80\n",
            "Altura permitida!\n",
            "Digite sua idade: 18\n",
            "Idade Permitida!\n",
            "Poderá compertir!\n"
          ]
        }
      ]
    },
    {
      "cell_type": "markdown",
      "source": [
        "7) Faça um programa que solicite o peso do lutador de Boxe. Informe em que categoria de boxe o usuário está"
      ],
      "metadata": {
        "id": "iKv_RPz68jZ5"
      }
    },
    {
      "cell_type": "code",
      "source": [
        "peso=float(input(\"Digite o seu peso: \"))\n",
        "if(peso <= 46.27 ):\n",
        "    print(\"Sua categoria é Palha Ligeiro\")\n",
        "elif (peso <= 47.63):\n",
        "  print(\"Sua categoria é Palha\")\n",
        "elif (peso <= 48.99):\n",
        "  print(\"Sua categoria é Mosca Ligeiro\")\n",
        "elif (peso <= 50.35):\n",
        "  print(\"Sua categoria é Mosca\")\n",
        "elif (peso <= 51.71):\n",
        "  print(\"Sua categoria é Super Mosca\")\n",
        "elif (peso <= 53.52):\n",
        "  print(\"Sua categoria é Galo\")\n",
        "elif (peso <= 55.34):\n",
        "  print(\"Sua categoria é Super Galo\")\n",
        "elif (peso <= 57.15):\n",
        "  print(\"Sua categoria é Pena\")\n",
        "elif (peso <= 58.97):\n",
        "  print(\"Sua categoria é Super Pena\")\n",
        "elif (peso <= 61.23):\n",
        "  print(\"Sua categoria é Leve\")\n",
        "elif (peso <= 63.50):\n",
        "  print(\"Sua categoria é Super Leve\")\n",
        "elif (peso <= 66.68):\n",
        "  print(\"Sua categoria é Meio-Médio\")\n",
        "elif (peso <= 69.85):\n",
        "  print(\"Sua categoria é Super Meio-Médio\")\n",
        "elif (peso <= 73.03):\n",
        "  print(\"Sua categoria é Médio\")\n",
        "elif (peso <= 76.20):\n",
        "  print(\"Sua categoria é Super Médio\")\n",
        "elif (peso <= 79.38):\n",
        "  print(\"Sua categoria é Meio-Pesado\")\n",
        "elif (peso <= 90.72):\n",
        "  print(\"Sua categoria é Cruzador\")\n",
        "else:\n",
        "  print(\"Sua categoria é Pesado\")"
      ],
      "metadata": {
        "id": "_PLXXtJq8sJu",
        "colab": {
          "base_uri": "https://localhost:8080/"
        },
        "outputId": "88558ca1-0c76-4743-b2e1-e667a92d9e08"
      },
      "execution_count": null,
      "outputs": [
        {
          "output_type": "stream",
          "name": "stdout",
          "text": [
            "Digite o seu peso: 70\n",
            "Sua categoria é Médio\n"
          ]
        }
      ]
    },
    {
      "cell_type": "markdown",
      "source": [
        "8.\n",
        "Faça um programa que solicite\n",
        "O salário do usuário;\n",
        "Informe quanto esse usuário irá pagar de imposto de Renda"
      ],
      "metadata": {
        "id": "Sy7fV039vwc2"
      }
    },
    {
      "cell_type": "code",
      "source": [
        "salario= float(input(\"Digite o seu salário: \"))\n",
        "if (salario <= 1903.98):\n",
        "\n",
        "  print(\"Você está isento do imposto de renda.\")\n",
        "elif ( 1903.99 <= salario <=2826.65):\n",
        "  salarioporcentagem= salario * (7.5/100)\n",
        "  print(f\"Você pagará {salarioporcentagem:.2f} de Imposto de Renda!\")\n",
        "elif ( 2826.66 <= salario <=  3751.05):\n",
        "  salarioporcentagem= salario * (15/100)\n",
        "  print(f\"Você pagará {salarioporcentagem:.2f} de Imposto de Renda!\")\n",
        "elif ( 3751.06 <= salario <= 4664.68):\n",
        "  salarioporcentagem= salario * (22.5/100)\n",
        "  print(f\"Você pagará {salarioporcentagem:.2f} de Imposto de Renda!\")\n",
        "else:\n",
        "  salarioporcentagem= salario * (27.5/100)\n",
        "  print(f\"Você pagará {salarioporcentagem} de Imposto de Renda!\")"
      ],
      "metadata": {
        "colab": {
          "base_uri": "https://localhost:8080/"
        },
        "id": "jGV1uboOuko7",
        "outputId": "eafc02b7-a4a0-4ac9-a0a4-a2c2510b2047"
      },
      "execution_count": null,
      "outputs": [
        {
          "output_type": "stream",
          "name": "stdout",
          "text": [
            "Digite o seu salário: 2827.77\n",
            "Você pagará 424.17 de Imposto de Renda!\n"
          ]
        }
      ]
    },
    {
      "cell_type": "markdown",
      "source": [
        "9.Uma empresa dará aumento para seus funcionários, faça um programa que faça esses cálculos, solicite o salário do funcionário e informe o aumento que o mesmo terá."
      ],
      "metadata": {
        "id": "IGhiAMgwwBOP"
      }
    },
    {
      "cell_type": "code",
      "source": [
        "salario=float(input(\"Digite seu salário: \"))\n",
        "if (salario <= 1.500):\n",
        "  aumento=salario * (20/100)\n",
        "  percentual=20\n",
        "elif (salario > 1.500) and (salario <=3.000):\n",
        "   aumento=salario * (15/100)\n",
        "   percentual=15\n",
        "elif (salario > 3.000):\n",
        "  aumento=salario * (10/100)\n",
        "  percentual=10\n",
        "novosalario= salario + aumento\n",
        "print(f\"O funcionário recebeu um aumento de: {percentual}% \")\n",
        "print(f\"O valor do aumento é de: {aumento:.2f}\")\n",
        "print(f\"O novo salário do funcionário é de: {novosalario}\")"
      ],
      "metadata": {
        "id": "7pLJs1JMwGru",
        "colab": {
          "base_uri": "https://localhost:8080/"
        },
        "outputId": "df26c980-c0a3-4f77-e58d-2524a41deac7"
      },
      "execution_count": null,
      "outputs": [
        {
          "output_type": "stream",
          "name": "stdout",
          "text": [
            "Digite seu salário: 3500\n",
            "O funcionário recebeu um aumento de: 10% \n",
            "O valor do aumento é de: 350.00\n",
            "O novo salário do funcionário é de: 3850.0\n"
          ]
        }
      ]
    },
    {
      "cell_type": "markdown",
      "source": [
        "10.Simulador de frete inteligente\n",
        "\n",
        "Peça o peso do pacote (em kg) e a distância (em km) de sua cidade até o local de entrega.Calcule o frete com base em regras:\n",
        "\n",
        "Até 2kg → R$5 por 100km\n",
        "\n",
        "De 2kg a 5kg → R$8 por 100km\n",
        "\n",
        "Acima de 5kg → R$10 por 100km\n",
        "\n",
        "Exemplo de saída:\n",
        "\n",
        "\"Para um pacote de 3kg viajando 350km, o valor do frete será R$28,00\""
      ],
      "metadata": {
        "id": "7MRt-X3nwHFN"
      }
    },
    {
      "cell_type": "code",
      "source": [
        "peso= float(input(\"Digite o peso do pacote em kg: \"))\n",
        "distancia=float(input(\"Digite a distância(em km) de sua cidade até o local da entrega: \"))\n",
        "if peso <= 2:\n",
        "  km=5\n",
        "elif peso >= 2 and peso <= 5:\n",
        "  km= 8\n",
        "else:\n",
        "  km= 10\n",
        "frete=  (distancia / 100) * km\n",
        "\n",
        "print(f\"Para um pacote de {peso} viajando de {distancia}km, o valor do frete será de R${frete}\")\n"
      ],
      "metadata": {
        "colab": {
          "base_uri": "https://localhost:8080/"
        },
        "id": "0FMevUkI8bpT",
        "outputId": "52b9a60d-6106-4af0-eb5c-00618c53b540"
      },
      "execution_count": null,
      "outputs": [
        {
          "output_type": "stream",
          "name": "stdout",
          "text": [
            "Digite o peso do pacote em kg: 3\n",
            "Digite a distância(em km) de sua cidade até o local da entrega: 350\n",
            "Para um pacote de 3.0 viajando de 350.0km, o valor do frete será de R$28.0\n"
          ]
        }
      ]
    }
  ]
}