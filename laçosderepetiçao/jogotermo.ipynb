{
  "nbformat": 4,
  "nbformat_minor": 0,
  "metadata": {
    "colab": {
      "provenance": [],
      "authorship_tag": "ABX9TyPRe8G5sw9NPO9WRdkI4gWj",
      "include_colab_link": true
    },
    "kernelspec": {
      "name": "python3",
      "display_name": "Python 3"
    },
    "language_info": {
      "name": "python"
    }
  },
  "cells": [
    {
      "cell_type": "markdown",
      "metadata": {
        "id": "view-in-github",
        "colab_type": "text"
      },
      "source": [
        "<a href=\"https://colab.research.google.com/github/victorianuness/PA-2025/blob/main/la%C3%A7osderepeti%C3%A7ao/jogotermo.ipynb\" target=\"_parent\"><img src=\"https://colab.research.google.com/assets/colab-badge.svg\" alt=\"Open In Colab\"/></a>"
      ]
    },
    {
      "cell_type": "markdown",
      "source": [
        "\n",
        "\n",
        "*   fazer termo\n",
        "*   o jogo vai ter 6 tentativas\n",
        "\n"
      ],
      "metadata": {
        "id": "KFh9pQ_0SP4I"
      }
    },
    {
      "cell_type": "code",
      "execution_count": null,
      "metadata": {
        "id": "h1WZ6j0QLGnE"
      },
      "outputs": [],
      "source": [
        "import random\n",
        "tentativas = 6\n",
        "palavras = ['roxas', 'pedro', 'lucas', 'bruno']\n",
        "palavra = random.choice(palavras)\n",
        "letras = []\n",
        "for letra in palavra:\n",
        "    letras.append(letra)\n",
        "qtd_letras = len(letras)\n",
        "(f'Tente adivinhar um nome com {qtd_letras} letras!')\n",
        "while tentativas > 0 :\n",
        "    chute = input(f'\\nVocê tem {tentativas} tentativas. Digite um nome com {qtd_letras} letras: ').lower()\n",
        "    qtd_chute = len(chute)\n",
        "    while qtd_chute != qtd_letras:\n",
        "        chute = input(f'\\nVocê tem {tentativas} tentativas. Digite um nome com {qtd_letras} letras: ').lower()\n",
        "        qtd_chute = len(chute)\n",
        "    resultado = []\n",
        "    for i in range(qtd_letras):\n",
        "        if chute[i] == letras[i]:\n",
        "            resultado.append(chute[i].upper())\n",
        "        elif chute[i] in letras:\n",
        "            resultado.append(chute[i])\n",
        "        else:\n",
        "            resultado.append('_')\n",
        "    tentativas -=1\n",
        "    print('Resultado: ', ' '.join(resultado))\n",
        "    if chute == palavra:\n",
        "        print('Parabéns! Você acertou a palavra!')\n",
        "        break\n",
        "    if tentativas == 0:\n",
        "        print(f'Você perdeu! A palavra correta era: {palavra}')"
      ]
    }
  ]
}