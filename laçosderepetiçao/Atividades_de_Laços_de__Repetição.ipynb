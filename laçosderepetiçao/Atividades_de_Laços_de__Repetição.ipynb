{
  "nbformat": 4,
  "nbformat_minor": 0,
  "metadata": {
    "colab": {
      "provenance": [],
      "authorship_tag": "ABX9TyOgJFfsto9igSPIqVrRGegw",
      "include_colab_link": true
    },
    "kernelspec": {
      "name": "python3",
      "display_name": "Python 3"
    },
    "language_info": {
      "name": "python"
    }
  },
  "cells": [
    {
      "cell_type": "markdown",
      "metadata": {
        "id": "view-in-github",
        "colab_type": "text"
      },
      "source": [
        "<a href=\"https://colab.research.google.com/github/victorianuness/PA-2025/blob/main/la%C3%A7osderepeti%C3%A7ao/Atividades_de_La%C3%A7os_de__Repeti%C3%A7%C3%A3o.ipynb\" target=\"_parent\"><img src=\"https://colab.research.google.com/assets/colab-badge.svg\" alt=\"Open In Colab\"/></a>"
      ]
    },
    {
      "cell_type": "markdown",
      "source": [
        "1- MOSTRAR TODOS OS NÚMEROS ÍMPARES DE 1 A 30"
      ],
      "metadata": {
        "id": "XUtVSDm7EsFl"
      }
    },
    {
      "cell_type": "code",
      "execution_count": 26,
      "metadata": {
        "id": "ifkfcMOQEcX1",
        "colab": {
          "base_uri": "https://localhost:8080/"
        },
        "outputId": "771ab943-3e0c-4121-fe76-39802d725898"
      },
      "outputs": [
        {
          "output_type": "stream",
          "name": "stdout",
          "text": [
            "1\n",
            "3\n",
            "5\n",
            "7\n",
            "9\n",
            "11\n",
            "13\n",
            "15\n",
            "17\n",
            "19\n",
            "21\n",
            "23\n",
            "25\n",
            "27\n",
            "29\n"
          ]
        }
      ],
      "source": [
        "for i in range(1,31,2):\n",
        "    print(i)"
      ]
    },
    {
      "cell_type": "markdown",
      "source": [
        "2- Escreva um algoritmo que leia 20 valores inteiros e ao final exiba:\n",
        "a) a soma dos números positivos;\n",
        "\n",
        "b) a quantidade de valores negativos.\n",
        "\n"
      ],
      "metadata": {
        "id": "YgIHNf0UE02w"
      }
    },
    {
      "cell_type": "code",
      "source": [
        "numeros = [2, 1, -1, 18, 25, -10, 7, 20, -30, 10]\n",
        "soma = 0\n",
        "conta = 0\n",
        "\n",
        "for j in numeros:\n",
        "    if j > 0:\n",
        "        soma = soma + j\n",
        "    if j < 0:\n",
        "        conta = conta + 1\n",
        "\n",
        "print(\"A soma total dos positivos é:\", soma)\n",
        "print(\"A quantidade de negativos é:\", conta)\n"
      ],
      "metadata": {
        "colab": {
          "base_uri": "https://localhost:8080/"
        },
        "id": "VICwYI0UqSlf",
        "outputId": "761f2772-631c-482c-b4e2-71a033021474"
      },
      "execution_count": 27,
      "outputs": [
        {
          "output_type": "stream",
          "name": "stdout",
          "text": [
            "A soma total dos positivos é: 83\n",
            "A quantidade de negativos é: 3\n"
          ]
        }
      ]
    },
    {
      "cell_type": "markdown",
      "source": [
        "2-CONTADOR DE UM NÚMERO INCIAL E UM NÚMERO FINAL\n",
        "DIGITADOS PELO USUÁRIO"
      ],
      "metadata": {
        "id": "h_QIYNyyFPIz"
      }
    },
    {
      "cell_type": "code",
      "source": [
        "inicial= int(input(\"Digite um número inicial: \"))\n",
        "final= int(input(\"Digite um número final: \"))\n",
        "for i in range(inicial,final + 1) :\n",
        "  print(i)"
      ],
      "metadata": {
        "id": "6b5eiRAEFXPi",
        "colab": {
          "base_uri": "https://localhost:8080/"
        },
        "outputId": "dcab26af-9b2e-4ced-8f13-2b9407deac7c"
      },
      "execution_count": 28,
      "outputs": [
        {
          "output_type": "stream",
          "name": "stdout",
          "text": [
            "Digite um número inicial: 2\n",
            "Digite um número final: 6\n",
            "2\n",
            "3\n",
            "4\n",
            "5\n",
            "6\n"
          ]
        }
      ]
    },
    {
      "cell_type": "markdown",
      "source": [
        "3- SOME TODOS OS NÚMEROS DE 1 A 10"
      ],
      "metadata": {
        "id": "C8aEVm0kFiba"
      }
    },
    {
      "cell_type": "code",
      "source": [
        "soma=0\n",
        "for v in range (1,11):\n",
        " soma=soma+v\n",
        " print(soma)"
      ],
      "metadata": {
        "id": "RQksSGYBFuUG",
        "colab": {
          "base_uri": "https://localhost:8080/"
        },
        "outputId": "7f8993d1-cb03-40bb-e71b-189001b0c7a9"
      },
      "execution_count": 3,
      "outputs": [
        {
          "output_type": "stream",
          "name": "stdout",
          "text": [
            "1\n",
            "3\n",
            "6\n",
            "10\n",
            "15\n",
            "21\n",
            "28\n",
            "36\n",
            "45\n",
            "55\n"
          ]
        }
      ]
    },
    {
      "cell_type": "markdown",
      "source": [
        "4-USANDO O WHILE PERGUNTE AO USUÁRIO QUAL A MELHOR ESCOLHA DE RIBEIRÃO PIRES, ENQUANTO A PESSOA NÃO DIGITAR \"ETEC MCM\", ENQUANTO NÃO DIGITA CERTO ELE VAI INFORMANDO QUE O USUÁRIO ERROU"
      ],
      "metadata": {
        "id": "43crO2RkFx9t"
      }
    },
    {
      "cell_type": "code",
      "source": [
        "escola=str(input(\"Qual é a melhor escola de Ribeirão Pires?: \")).lower()\n",
        "while escola != \"etec mcm\":\n",
        "   print(\"Você tem Certeza?\")\n",
        "   escola=str(input(\"Digite de novo!:\"))\n",
        "\n",
        "else:\n",
        "   print(\"Resposta Correta\")"
      ],
      "metadata": {
        "id": "kXHiGG1GF1V1",
        "colab": {
          "base_uri": "https://localhost:8080/"
        },
        "outputId": "81dd6262-86b0-462f-f761-83c386fa3ab3"
      },
      "execution_count": 8,
      "outputs": [
        {
          "output_type": "stream",
          "name": "stdout",
          "text": [
            "Qual é a melhor escola de Ribeirão Pires?: objetivo\n",
            "Você tem Certeza?\n",
            "Digite de novo!:etec mcm\n",
            "Resposta Correta\n"
          ]
        }
      ]
    },
    {
      "cell_type": "markdown",
      "source": [
        "5-Receba um número, verifique se é diferente de zero, caso seja diferente,continue retornando falso até que ele digite esse valor"
      ],
      "metadata": {
        "id": "ll7ziSUkGB65"
      }
    },
    {
      "cell_type": "code",
      "source": [
        "num=int(input(\"Digite um número: \"))\n",
        "while num !=0:\n",
        "   print(\"Diferente\")\n",
        "   print(\"Esse número é igual a zero?\", num==0)\n",
        "   num = int(input(\"Digite outro número: \"))\n",
        "else:\n",
        "  print(\"Igual a zero\")"
      ],
      "metadata": {
        "id": "2QP2AezgGBni",
        "colab": {
          "base_uri": "https://localhost:8080/"
        },
        "outputId": "a34157f3-91de-4327-fb35-d3eae94a5201"
      },
      "execution_count": 10,
      "outputs": [
        {
          "output_type": "stream",
          "name": "stdout",
          "text": [
            "Digite um número: 20\n",
            "Diferente\n",
            "Esse número é igual a zero? False\n",
            "Digite outro número: 25\n",
            "Diferente\n",
            "Esse número é igual a zero? False\n",
            "Digite outro número: 0\n",
            "Igual a zero\n"
          ]
        }
      ]
    },
    {
      "cell_type": "markdown",
      "source": [
        "6-SOMAR NÚMEROS ATÉ QUE O USUÁRIO DIGITE 0"
      ],
      "metadata": {
        "id": "S-X44rdpGKr0"
      }
    },
    {
      "cell_type": "code",
      "source": [
        "num=int(input(\"Digite um número: \"))\n",
        "soma=0\n",
        "while num !=0:\n",
        "   soma+=num\n",
        "   print(\"soma feita!O total é\",soma)\n",
        "   num=int(input(\"Digite um número: \"))\n",
        "   if num==0:\n",
        "    break"
      ],
      "metadata": {
        "id": "xXGqxl8XGQDk",
        "colab": {
          "base_uri": "https://localhost:8080/"
        },
        "outputId": "a92a7302-cd8e-4206-c97a-30c9b511aba0"
      },
      "execution_count": 14,
      "outputs": [
        {
          "name": "stdout",
          "output_type": "stream",
          "text": [
            "Digite um número: 10\n",
            "soma feita!O total é 10\n",
            "Digite um número: 20\n",
            "soma feita!O total é 30\n",
            "Digite um número: 678\n",
            "soma feita!O total é 708\n",
            "Digite um número: 0\n"
          ]
        }
      ]
    },
    {
      "cell_type": "markdown",
      "source": [
        "7-CRIE UM MENU DE OPÇÕES, COM 3 OPÇÕES,E ELE VAI SOLICITANDO NOVAMENTE A OPÇÕES ATÉ QUE O USUÁRIO ESCOLHA A OPÇÃO SAIR"
      ],
      "metadata": {
        "id": "36wYbJbqGS1q"
      }
    },
    {
      "cell_type": "code",
      "source": [
        "opcao=0\n",
        "while opcao !=3:\n",
        " print(\"Digite a operação que deseja prosseguir\")\n",
        " print(\"1-Dizer um nome de um filme\")\n",
        " print(\"2-Somar dois números\")\n",
        " print(\"3-sair\")\n",
        " opcao=int(input(\"Digite a operação!: \"))\n",
        "\n",
        " if opcao==1:\n",
        "   filme=str(input(\"Digite um nome de um filme: \"))\n",
        "   print(\"Obrigada!\")\n",
        " elif opcao==2:\n",
        "  soma1=int(input(\"Digite um número: \"))\n",
        "  soma2=int(input(\"Digite outro número: \"))\n",
        "  somar=soma1+soma2\n",
        "  print(\"Sua soma é de: \", somar)\n",
        " elif opcao==3:\n",
        "   print(\"Até mais\")\n",
        " else:\n",
        "  print(\"Operação inválida, tente novamente!\")"
      ],
      "metadata": {
        "id": "TFeyrn0XGWri",
        "colab": {
          "base_uri": "https://localhost:8080/"
        },
        "outputId": "87495cc7-f2c1-4e5c-d80c-114a8e88b10b"
      },
      "execution_count": 30,
      "outputs": [
        {
          "output_type": "stream",
          "name": "stdout",
          "text": [
            "Digite a operação que deseja prosseguir\n",
            "1-Dizer um nome de um filme\n",
            "2-Somar dois números\n",
            "3-sair\n",
            "Digite a operação!: 2\n",
            "Digite um número: 8\n",
            "Digite outro número: 9\n",
            "Sua soma é de:  17\n",
            "Digite a operação que deseja prosseguir\n",
            "1-Dizer um nome de um filme\n",
            "2-Somar dois números\n",
            "3-sair\n",
            "Digite a operação!: 3\n",
            "Até mais\n"
          ]
        }
      ]
    },
    {
      "cell_type": "markdown",
      "source": [
        "8-Faça um programa que mostre os n termos da Série a seguir:"
      ],
      "metadata": {
        "id": "IK8yFbHOGaQG"
      }
    },
    {
      "cell_type": "code",
      "source": [
        "qntde=int(input(\"Digite um número: \"))\n",
        "soma=0\n",
        "denominador=1\n",
        "\n",
        "for numerador in range(1,qntde + 1):\n",
        "  divisao= numerador/denominador\n",
        "  denominador= denominador+2\n",
        "  soma= soma + divisao\n",
        "\n",
        "print(soma)"
      ],
      "metadata": {
        "id": "VqYho-hYGfgE",
        "colab": {
          "base_uri": "https://localhost:8080/"
        },
        "outputId": "64b2032b-5163-4f37-d5c2-a2dbdee8b094"
      },
      "execution_count": 31,
      "outputs": [
        {
          "output_type": "stream",
          "name": "stdout",
          "text": [
            "Digite um número: 5\n",
            "3.393650793650793\n"
          ]
        }
      ]
    },
    {
      "cell_type": "markdown",
      "source": [
        "# Lista Márcio"
      ],
      "metadata": {
        "id": "U8wxmJ1JcAVU"
      }
    },
    {
      "cell_type": "markdown",
      "source": [
        "1-Soma dos números de uma lista\n",
        "Dada a lista numeros = [3, 7, 2, 8, 10], use um for para calcular a soma de todos os elementos."
      ],
      "metadata": {
        "id": "ZuWzWuGvHDmw"
      }
    },
    {
      "cell_type": "code",
      "source": [
        "soma=0\n",
        "lista=[3,7,2,8,10]\n",
        "for i in lista:\n",
        "  soma= soma+ i\n",
        "print(soma)\n"
      ],
      "metadata": {
        "id": "ForvTbg1HGzq",
        "colab": {
          "base_uri": "https://localhost:8080/"
        },
        "outputId": "9a500486-e2a6-4532-977c-076b1b33ec8e"
      },
      "execution_count": 15,
      "outputs": [
        {
          "output_type": "stream",
          "name": "stdout",
          "text": [
            "30\n"
          ]
        }
      ]
    },
    {
      "cell_type": "markdown",
      "source": [
        "2-Contagem de vogais em uma string\n",
        "Peça uma palavra ao usuário e use um for para contar quantas vogais (a, e, i, o, u) existem."
      ],
      "metadata": {
        "id": "tliCs1hjHK1I"
      }
    },
    {
      "cell_type": "code",
      "source": [
        "soma=0\n",
        "palavra= input(\"Digite uma palavra: \")\n",
        "vogal = [\"a\", \"e\", \"i\", \"o\", \"u\"]\n",
        "\n",
        "for i in palavra:\n",
        "  if i in vogal:\n",
        "    soma = soma + 1\n",
        "\n",
        "print(\"a palavra tem:\", soma, \"vogais\")"
      ],
      "metadata": {
        "id": "mY1QuHISHJ-E",
        "colab": {
          "base_uri": "https://localhost:8080/"
        },
        "outputId": "bbddb255-6f7f-42d2-818e-bd385d379c3d"
      },
      "execution_count": 32,
      "outputs": [
        {
          "output_type": "stream",
          "name": "stdout",
          "text": [
            "Digite uma palavra: victoria\n",
            "a palavra tem: 4 vogais\n"
          ]
        }
      ]
    },
    {
      "cell_type": "markdown",
      "source": [
        "3-Inverter lista usando while\n",
        "Dada a lista nomes = [\"Ana\", \"João\", \"Carlos\", \"Maria\"], use um while para inverter a ordem dos elementos (sem usar reverse() ou slicing)."
      ],
      "metadata": {
        "id": "JCIC6p4nHYQ1"
      }
    },
    {
      "cell_type": "code",
      "source": [
        "nomes = [\"Ana\", \"João\", \"Carlos\", \"Maria\"]\n",
        "i = 0\n",
        "j = len(nomes) - 1\n",
        "while i < j:\n",
        "    nomes[i], nomes[j] = nomes[j], nomes[i]\n",
        "\n",
        "    i += 1\n",
        "    j -= 1\n",
        "print(nomes)"
      ],
      "metadata": {
        "id": "l_8tcZ5wHc9-",
        "colab": {
          "base_uri": "https://localhost:8080/"
        },
        "outputId": "e3255da8-5c1c-4eda-aad9-d767250b37f6"
      },
      "execution_count": 33,
      "outputs": [
        {
          "output_type": "stream",
          "name": "stdout",
          "text": [
            "['Maria', 'Carlos', 'João', 'Ana']\n"
          ]
        }
      ]
    },
    {
      "cell_type": "markdown",
      "source": [
        "4) Maior número em uma lista\n",
        "\n",
        "Escreva um programa que percorra uma lista de inteiros e encontre o maior valor."
      ],
      "metadata": {
        "id": "gs-EIzNxHpoG"
      }
    },
    {
      "cell_type": "code",
      "source": [
        "numeros=[-3,-1,0,1,3,7,18,22,90,31,60,2]\n",
        "maior = numeros[0]\n",
        "\n",
        "for i in (numeros):\n",
        "  if i> maior:\n",
        "    maior = i\n",
        "print(maior)"
      ],
      "metadata": {
        "id": "p4zaE_nhHwQ0",
        "colab": {
          "base_uri": "https://localhost:8080/"
        },
        "outputId": "79c77579-1722-41ae-ef8f-264246b19f3c"
      },
      "execution_count": 34,
      "outputs": [
        {
          "output_type": "stream",
          "name": "stdout",
          "text": [
            "90\n"
          ]
        }
      ]
    },
    {
      "cell_type": "markdown",
      "source": [
        "5-Remover elementos repetidos de uma lista\n",
        "Usando um for, percorra a lista valores = [1, 2, 2, 3, 4, 4, 5]\n",
        "e crie uma nova lista apenas com elementos únicos.\n"
      ],
      "metadata": {
        "id": "bz2QR4hVHzdL"
      }
    },
    {
      "cell_type": "code",
      "source": [
        "valores = [1, 2, 2, 3, 4, 4, 5]\n",
        "unicos = []\n",
        "for v in valores:\n",
        " if v not in unicos:\n",
        "  unicos.append(v)\n",
        "\n",
        "print(\"Lista original:\", valores)\n",
        "print(\"Lista sem repetidos:\", unicos)"
      ],
      "metadata": {
        "colab": {
          "base_uri": "https://localhost:8080/"
        },
        "id": "qQoelsYRkgth",
        "outputId": "79badb3a-2019-417b-846f-3556013d170d"
      },
      "execution_count": 35,
      "outputs": [
        {
          "output_type": "stream",
          "name": "stdout",
          "text": [
            "Lista original: [1, 2, 2, 3, 4, 4, 5]\n",
            "Lista sem repetidos: [1, 2, 3, 4, 5]\n"
          ]
        }
      ]
    },
    {
      "cell_type": "markdown",
      "source": [
        "6-Verificar se palavra é palíndromo\n",
        "Peça uma palavra ao usuário e use while ou for para verificar se ela é igual de frente para trás (ex.: \"arara\")."
      ],
      "metadata": {
        "id": "UQZDcwC3ICdn"
      }
    },
    {
      "cell_type": "code",
      "source": [
        "palavra = input(\"Digite uma palavra: \")\n",
        "invertida = \"\"\n",
        "for i in range(len(palavra) - 1, -1, -1):\n",
        "    invertida += palavra[i]\n",
        "\n",
        "if palavra == invertida:\n",
        "    print(\"É um palíndromo:\", palavra)\n",
        "else:\n",
        "    print(\"Não é palíndromo:\", palavra)\n"
      ],
      "metadata": {
        "colab": {
          "base_uri": "https://localhost:8080/"
        },
        "id": "-Q5zoOkNh5Nd",
        "outputId": "18abfc3d-3673-428d-86e3-972f31ed4ddf"
      },
      "execution_count": 37,
      "outputs": [
        {
          "output_type": "stream",
          "name": "stdout",
          "text": [
            "Digite uma palavra: arara\n",
            "É um palíndromo: arara\n"
          ]
        }
      ]
    },
    {
      "cell_type": "markdown",
      "source": [
        "7-Contagem regressiva com while\n",
        "\n",
        "Peça ao usuário um número e faça uma contagem regressiva até 0."
      ],
      "metadata": {
        "id": "VyGQ0T_iIjzD"
      }
    },
    {
      "cell_type": "code",
      "source": [
        "numero = int(input(\"Digite um número para iniciar a contagem regressiva: \"))\n",
        "while numero >= 0:\n",
        "  print(numero)\n",
        "  numero -= 1"
      ],
      "metadata": {
        "colab": {
          "base_uri": "https://localhost:8080/"
        },
        "id": "0VLfqLEPImID",
        "outputId": "16a6b928-7f0b-46d3-ff87-be7db8db16fa"
      },
      "execution_count": 39,
      "outputs": [
        {
          "output_type": "stream",
          "name": "stdout",
          "text": [
            "Digite um número para iniciar a contagem regressiva: 5\n",
            "5\n",
            "4\n",
            "3\n",
            "2\n",
            "1\n",
            "0\n"
          ]
        }
      ]
    },
    {
      "cell_type": "markdown",
      "source": [
        "8-Percorrendo um dicionário de notas\n",
        "Dado o dicionário notas = {\"Ana\": 8, \"Carlos\": 7, \"Maria\": 10}, use um for para exibir cada aluno com sua nota."
      ],
      "metadata": {
        "id": "5BU9rKnSI0pQ"
      }
    },
    {
      "cell_type": "code",
      "source": [
        "notas = {\"Ana\": 8, \"Carlos\": 7, \"Maria\": 10}\n",
        "nota = []\n",
        "\n",
        "for i in notas:\n",
        "  print(i, notas[i] )"
      ],
      "metadata": {
        "id": "LsiSBA6cI0Nl",
        "colab": {
          "base_uri": "https://localhost:8080/"
        },
        "outputId": "8ba5dd19-1018-4e48-c471-07957343f193"
      },
      "execution_count": 40,
      "outputs": [
        {
          "output_type": "stream",
          "name": "stdout",
          "text": [
            "Ana 8\n",
            "Carlos 7\n",
            "Maria 10\n"
          ]
        }
      ]
    },
    {
      "cell_type": "markdown",
      "source": [
        "9)Filtrar números pares de uma lista\n",
        "\n",
        "Dada a lista numeros = [10, 21, 32, 43, 54], use um for para criar uma nova lista contendo apenas os pares.\n",
        "\n",
        "\n"
      ],
      "metadata": {
        "id": "O6KScgAmI5Q5"
      }
    },
    {
      "cell_type": "code",
      "source": [
        "lista = [10, 21, 32, 43, 54]\n",
        "nova = []\n",
        "for i in lista:\n",
        "  resto = i%2\n",
        "  if resto == 0:\n",
        "    nova.append(i)\n",
        "print(nova)"
      ],
      "metadata": {
        "id": "R5KcMdw7I8F6",
        "colab": {
          "base_uri": "https://localhost:8080/"
        },
        "outputId": "25e8b4ec-85b5-48dd-cac4-1544867450f9"
      },
      "execution_count": 41,
      "outputs": [
        {
          "output_type": "stream",
          "name": "stdout",
          "text": [
            "[10, 32, 54]\n"
          ]
        }
      ]
    },
    {
      "cell_type": "markdown",
      "source": [
        "10-Contador de palavras em uma frase\n",
        "Peça ao usuário uma frase, divida em palavras (split()) e use um dicionário para contar quantas vezes cada palavra aparece."
      ],
      "metadata": {
        "id": "lvLpVQTkI8Yj"
      }
    },
    {
      "cell_type": "code",
      "source": [
        "frase = input(\"Digite uma frase: \")\n",
        "palavras = frase.split()\n",
        "contagem = {}\n",
        "for p in palavras:\n",
        "  if p in contagem:\n",
        "   contagem[p] += 1\n",
        "  else:\n",
        "    contagem[p] = 1\n",
        "print(\"Contagem de palavras:\")\n",
        "for palavra, qtd in contagem.items():\n",
        "    print(palavra, \":\", qtd)\n"
      ],
      "metadata": {
        "id": "7WXKg2lBJE02",
        "colab": {
          "base_uri": "https://localhost:8080/"
        },
        "outputId": "dcc8df51-09fc-4c39-c19d-19351707c9e1"
      },
      "execution_count": 42,
      "outputs": [
        {
          "output_type": "stream",
          "name": "stdout",
          "text": [
            "Digite uma frase: eu gosto de chocolate\n",
            "Contagem de palavras:\n",
            "eu : 1\n",
            "gosto : 1\n",
            "de : 1\n",
            "chocolate : 1\n"
          ]
        }
      ]
    },
    {
      "cell_type": "markdown",
      "source": [
        "# OUTRA LISTA"
      ],
      "metadata": {
        "id": "nUp1PwgwJJLq"
      }
    },
    {
      "cell_type": "markdown",
      "source": [
        "1) Tuplas - Acesso e Desempacotamento\n",
        "Crie uma tupla contendo três tipos diferentes de dados: um número, uma string e uma lista. Use um laço de repetição para acessar e imprimir cada item da tupla. Além disso, dentro do laço, acesse e imprima o segundo item da lista que está dentro da tupla."
      ],
      "metadata": {
        "id": "yZtn1sWMJLSQ"
      }
    },
    {
      "cell_type": "code",
      "source": [
        "tupla=(15, \"victoria\",[2,0,10])\n",
        "for v in tupla:\n",
        "  print(\"Item da lista: \",v)\n",
        "  print(\"Segundo item: \", tupla[2][1])"
      ],
      "metadata": {
        "id": "Pi4keG7mJO-F",
        "colab": {
          "base_uri": "https://localhost:8080/"
        },
        "outputId": "63b12ae8-6859-4a37-cade-c78fa78c8310"
      },
      "execution_count": 43,
      "outputs": [
        {
          "output_type": "stream",
          "name": "stdout",
          "text": [
            "Item da lista:  15\n",
            "Segundo item:  0\n",
            "Item da lista:  victoria\n",
            "Segundo item:  0\n",
            "Item da lista:  [2, 0, 10]\n",
            "Segundo item:  0\n"
          ]
        }
      ]
    },
    {
      "cell_type": "markdown",
      "source": [
        "2) Cadastro de Pessoas e Análise de Alturas\n",
        "Solicite ao usuário para inserir o nome e a altura de várias pessoas. Preencha um dicionário com essas informações e depois encontre e imprima o nome e a altura da pessoa mais alta e da mais baixa.\n"
      ],
      "metadata": {
        "id": "SxlS2iNzJReZ"
      }
    },
    {
      "cell_type": "code",
      "source": [
        "pessoas = {}\n",
        "qtd = int(input(\"Quantas pessoas deseja cadastrar? \"))\n",
        "for i in range(qtd):\n",
        "    nome = input(f\"Digite o nome da {i+1}ª pessoa: \")\n",
        "    altura = float(input(f\"Digite a altura de {nome} (em metros): \"))\n",
        "    pessoas[nome] = altura\n",
        "for primeiro_nome in pessoas:\n",
        "    mais_alto = primeiro_nome\n",
        "    mais_baixo = primeiro_nome\n",
        "    break\n",
        "for nome in pessoas:\n",
        "    if pessoas[nome] > pessoas[mais_alto]:\n",
        "        mais_alto = nome\n",
        "    if pessoas[nome] < pessoas[mais_baixo]:\n",
        "        mais_baixo = nome\n",
        "print(\"----------------------------\")\n",
        "print(\"Pessoa mais alta:\", mais_alto, \"-\", pessoas[mais_alto], \"m\")\n",
        "print(\"Pessoa mais baixa:\", mais_baixo, \"-\", pessoas[mais_baixo], \"m\")\n",
        "\n",
        "\n"
      ],
      "metadata": {
        "colab": {
          "base_uri": "https://localhost:8080/"
        },
        "id": "aKc5HcKuY5nT",
        "outputId": "3b4ae2b5-fe5f-4a30-8126-b1a380c83bc7"
      },
      "execution_count": 46,
      "outputs": [
        {
          "output_type": "stream",
          "name": "stdout",
          "text": [
            "Quantas pessoas deseja cadastrar? 2\n",
            "Digite o nome da 1ª pessoa: vic\n",
            "Digite a altura de vic (em metros): 1.50\n",
            "Digite o nome da 2ª pessoa: ana\n",
            "Digite a altura de ana (em metros): 1.60\n",
            "----------------------------\n",
            "Pessoa mais alta: ana - 1.6 m\n",
            "Pessoa mais baixa: vic - 1.5 m\n"
          ]
        }
      ]
    },
    {
      "cell_type": "markdown",
      "source": [
        "3) Lista, laços e Condicionais\n",
        "Descrição: Crie uma lista com cinco números inteiros. Use um laço de repetição e uma condicional para imprimir apenas os números que são múltiplos de 3."
      ],
      "metadata": {
        "id": "JWyuW4CvJU2C"
      }
    },
    {
      "cell_type": "code",
      "source": [
        "numeros = [4, 9, 12, 7, 15]\n",
        "for v in numeros:\n",
        " if v // 3 * 3 == v:\n",
        "   print(v)\n"
      ],
      "metadata": {
        "id": "03KY5VewJV4q",
        "colab": {
          "base_uri": "https://localhost:8080/"
        },
        "outputId": "8b0250de-d5b9-4945-8a53-8266593f4823"
      },
      "execution_count": 47,
      "outputs": [
        {
          "output_type": "stream",
          "name": "stdout",
          "text": [
            "9\n",
            "12\n",
            "15\n"
          ]
        }
      ]
    },
    {
      "cell_type": "markdown",
      "source": [
        "4) Manipulação de Strings e Condicionais\n",
        "Descrição: Crie uma string com uma frase. Use uma condicional para verificar se a frase contém a palavra \"Python\". Se sim, substitua a palavra \"Python\" por \"programação\" e imprima a nova frase."
      ],
      "metadata": {
        "id": "eAwZrqtFJYz5"
      }
    },
    {
      "cell_type": "code",
      "source": [
        "frase= input(\"Digite uma palavra: \")\n",
        "if \"python\" in frase:\n",
        " novafrase=frase.replace(\"python\",\"Programação\")\n",
        " print(novafrase)\n",
        "else:\n",
        "  print(frase)"
      ],
      "metadata": {
        "id": "n3OQtnVNJYVs",
        "colab": {
          "base_uri": "https://localhost:8080/"
        },
        "outputId": "124f2b13-7f7f-4c33-a8d4-138f7a6213cd"
      },
      "execution_count": 48,
      "outputs": [
        {
          "output_type": "stream",
          "name": "stdout",
          "text": [
            "Digite uma palavra: eu amo python\n",
            "eu amo Programação\n"
          ]
        }
      ]
    },
    {
      "cell_type": "markdown",
      "source": [
        "5) Simulação de Alfândega com Cadastro Dinâmico de Itens usando dicionário\n",
        "Simule uma situação de alfândega onde o funcionário cadastra itens novos encontrados na mala de uma pessoa que veio de uma viagem internacional. Após o cadastro de todos os itens, o programa imprime uma nota com todos os itens e seus preços, calcula o valor total e, se o valor total ultrapassar 500 dólares, calcula o valor de 60% a ser pago."
      ],
      "metadata": {
        "id": "gligbuvMJa4u"
      }
    },
    {
      "cell_type": "code",
      "source": [
        "itens = {}\n",
        "quantidade = int(input(\"Quantos itens deseja cadastrar? \"))\n",
        "\n",
        "for i in range(quantidade):\n",
        "    nome_item = input(f\"Digite o nome do {i+1}º item: \")\n",
        "    preco_item = float(input(f\"Digite o preço do {nome_item} em dólares: \"))\n",
        "    itens[nome_item] = preco_item\n",
        "total = 0\n",
        "print(\"\\n===== NOTA DE ITENS =====\")\n",
        "for nome, preco in itens.items():\n",
        "    print(f\"{nome}: ${preco:.2f}\")\n",
        "    total += preco\n",
        "\n",
        "print(f\"Total: ${total:.2f}\")\n",
        "\n",
        "if total > 500:\n",
        "    taxa = total * 0.6\n",
        "    print(f\"Valor acima de $500! Imposto de 60% a pagar: ${taxa:.2f}\")\n",
        "else:\n",
        "    print(\"Não há imposto a pagar.\")\n"
      ],
      "metadata": {
        "id": "-tKg5cTPJfCW",
        "colab": {
          "base_uri": "https://localhost:8080/"
        },
        "outputId": "74048e90-bdd2-4064-e100-570429551703"
      },
      "execution_count": 49,
      "outputs": [
        {
          "output_type": "stream",
          "name": "stdout",
          "text": [
            "Quantos itens deseja cadastrar? 1\n",
            "Digite o nome do 1º item: lapis\n",
            "Digite o preço do lapis em dólares: 3.5\n",
            "\n",
            "===== NOTA DE ITENS =====\n",
            "lapis: $3.50\n",
            "Total: $3.50\n",
            "Não há imposto a pagar.\n"
          ]
        }
      ]
    },
    {
      "cell_type": "markdown",
      "source": [
        "6) Identificação de Palavras Negativas em um Texto\n",
        "Você vai criar um programa em Python para analisar um texto e identificar palavras que expressam pensamentos negativos. Para isso, você usará uma lista de palavras negativas fornecida e verificará quais dessas palavras estão presentes no texto fornecido pelo usuário. Exemplo de palavras negtivas, acrescente mais na lista: # Lista de palavras negativas palavras_negativas = ['triste', 'deprimido', 'ansioso', 'desapontado', 'frustrado']"
      ],
      "metadata": {
        "id": "p-Hxn0qRJhfb"
      }
    },
    {
      "cell_type": "code",
      "source": [
        "palavras_negativas = ['triste', 'deprimido', 'ansioso', 'desapontado', 'frustrado', 'infeliz', 'preocupado', 'desanimado']\n",
        "texto = input(\"Digite um texto: \").lower()\n",
        "negativas_encontradas = []\n",
        "for palavra in palavras_negativas:\n",
        "    if palavra in texto:\n",
        "        negativas_encontradas.append(palavra)\n",
        "if negativas_encontradas:\n",
        "    print(f\"Palavras negativas encontradas no texto:{negativas_encontradas}\" )\n",
        "else:\n",
        "    print(\"Nenhuma palavra negativa encontrada no texto.\")\n"
      ],
      "metadata": {
        "id": "h-uH-VksJiYt",
        "colab": {
          "base_uri": "https://localhost:8080/"
        },
        "outputId": "75384080-65ce-46f2-f8cc-e899e72af3c9"
      },
      "execution_count": 50,
      "outputs": [
        {
          "output_type": "stream",
          "name": "stdout",
          "text": [
            "Digite um texto: estou triste\n",
            "Palavras negativas encontradas no texto:['triste']\n"
          ]
        }
      ]
    }
  ]
}